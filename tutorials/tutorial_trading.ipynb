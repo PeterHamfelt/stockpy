{
 "cells": [
  {
   "cell_type": "code",
   "execution_count": null,
   "metadata": {},
   "outputs": [],
   "source": [
    "from sklearn.model_selection import train_test_split\n",
    "import torch\n",
    "import pandas as pd\n",
    "import numpy as np\n",
    "import matplotlib.pyplot as plt\n",
    "import seaborn as sns\n",
    "from stockpy.neural_network import BiLSTMRegressor, BiGRURegressor, MLPRegressor\n",
    "from stockpy.probabilistic import DeepMarkovModelRegressor, BayesianNNRegressor\n",
    "from stockpy.metrics import evaluate"
   ]
  },
  {
   "cell_type": "code",
   "execution_count": null,
   "metadata": {},
   "outputs": [],
   "source": [
    "# read CSV file and drop missing values\n",
    "df = pd.read_csv('../stock/AAPL.csv', parse_dates=True, index_col='Date').dropna(how=\"any\")\n",
    "# split data into training and test set\n",
    "X = df[['Open', 'High', 'Low', 'Volume']]\n",
    "y = df[['Close']]\n",
    "X_train, X_test, y_train, y_test = train_test_split(X, y, test_size=0.1, shuffle=False)\n",
    "# create model instance and fit to training data\n",
    "predictor = BayesianNNRegressor(hidden_size=[32, 64, 32])\n",
    "predictor.fit(X_train, \n",
    "              y_train, \n",
    "              batch_size=8, \n",
    "              epochs=10,\n",
    "              patience=5,\n",
    "              shuffle=False,)\n",
    "# predictions on test data\n",
    "y_pred = predictor.predict(X_test)"
   ]
  },
  {
   "cell_type": "code",
   "execution_count": null,
   "metadata": {},
   "outputs": [],
   "source": [
    "y_test = y_test.values.reshape(-1,1)\n",
    "mse, mse_squar, mape = evaluate(y_pred=y_pred, y_test=y_test)\n",
    "\n",
    "sns.set(style=\"ticks\", context=\"talk\")\n",
    "plt.style.use('dark_background')\n",
    "file = '../results/regressor' + predictor.__class__.__name__ + '.png'\n",
    "fig, ax = plt.subplots(figsize=(12, 6))\n",
    "days = X_test.index\n",
    "ax.plot(days, y_test, label='Close Value', linewidth=3, color='#2962FF')\n",
    "ax.plot(days, y_pred, label='predicted', linewidth=3, color='#FFA726')\n",
    "ax.set_title('Apple stock', fontsize=24, color='white')\n",
    "ax.set_xlabel('Time', fontsize=16, color='white', labelpad=10)\n",
    "ax.set_ylabel('Close price', fontsize=16, color='white', labelpad=10)\n",
    "ax.grid(color='white', linestyle='--', linewidth=0.5)\n",
    "\n",
    "# Add crosses at points where predicted value matches true value\n",
    "for i in range(len(days)):\n",
    "    if abs(y_test[i] - y_pred[i]) < 0.1:\n",
    "        ax.scatter(days[i], y_test[i], marker='X', color='white', \n",
    "                        s=100, zorder=2)\n",
    "\n",
    "# put legend in a white box\n",
    "ax.legend(fontsize=16, loc='upper right', \n",
    "          edgecolor='black')\n",
    "\n",
    "fig.autofmt_xdate()\n",
    "# these are matplotlib.patch.Patch properties\n",
    "textstr = '\\n'.join((\n",
    "    r'$\\mathrm{MSE}: %.2f$' % (mse, ),\n",
    "    r'$\\mathrm{RMSE}: %.2f$' % (mse_squar, ),  \n",
    "    r'$\\mathrm{MAPE}: %.2f$' % (mape, )))\n",
    "\n",
    "# these are matplotlib.patch.Patch properties\n",
    "props = dict(boxstyle='round', facecolor='white', alpha=0.7)\n",
    "\n",
    "# place a text box in upper left in axes coords\n",
    "ax.text(0.05, 0.15, textstr, transform=ax.transAxes, fontsize=14,\n",
    "        ha='left', va='center', bbox=props)\n",
    "plt.savefig(file, dpi=80, facecolor='#131722')\n",
    "plt.show()"
   ]
  }
 ],
 "metadata": {
  "kernelspec": {
   "display_name": "base",
   "language": "python",
   "name": "python3"
  },
  "language_info": {
   "codemirror_mode": {
    "name": "ipython",
    "version": 3
   },
   "file_extension": ".py",
   "mimetype": "text/x-python",
   "name": "python",
   "nbconvert_exporter": "python",
   "pygments_lexer": "ipython3",
   "version": "3.9.16"
  },
  "orig_nbformat": 4
 },
 "nbformat": 4,
 "nbformat_minor": 2
}
