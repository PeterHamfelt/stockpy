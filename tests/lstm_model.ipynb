{
 "cells": [
  {
   "cell_type": "code",
   "execution_count": 1,
   "metadata": {},
   "outputs": [
    {
     "name": "stderr",
     "output_type": "stream",
     "text": [
      "/tmp/ipykernel_1450/1633172487.py:9: FutureWarning: The pandas.datetime class is deprecated and will be removed from pandas in a future version. Import from datetime module instead.\n",
      "  from pandas import datetime\n"
     ]
    }
   ],
   "source": [
    "import numpy as np\n",
    "import random\n",
    "import pandas as pd \n",
    "from pylab import mpl, plt\n",
    "plt.style.use('seaborn')\n",
    "mpl.rcParams['font.family'] = 'serif'\n",
    "%matplotlib inline\n",
    "\n",
    "from pandas import datetime\n",
    "import math, time\n",
    "import itertools\n",
    "import datetime\n",
    "from operator import itemgetter\n",
    "from sklearn.metrics import mean_squared_error\n",
    "from sklearn.preprocessing import MinMaxScaler\n",
    "from math import sqrt\n",
    "import torch\n",
    "import torch.nn as nn\n",
    "from torch.autograd import Variable\n",
    "from sklearn import metrics\n",
    "\n",
    "import os\n",
    "for dirname, _, filenames in os.walk('stock/'):\n",
    "    for i, filename in enumerate(filenames):\n",
    "        if i<5:\n",
    "            print(os.path.join(dirname,filename))"
   ]
  },
  {
   "cell_type": "code",
   "execution_count": 2,
   "metadata": {},
   "outputs": [
    {
     "data": {
      "text/html": [
       "<div>\n",
       "<style scoped>\n",
       "    .dataframe tbody tr th:only-of-type {\n",
       "        vertical-align: middle;\n",
       "    }\n",
       "\n",
       "    .dataframe tbody tr th {\n",
       "        vertical-align: top;\n",
       "    }\n",
       "\n",
       "    .dataframe thead th {\n",
       "        text-align: right;\n",
       "    }\n",
       "</style>\n",
       "<table border=\"1\" class=\"dataframe\">\n",
       "  <thead>\n",
       "    <tr style=\"text-align: right;\">\n",
       "      <th></th>\n",
       "      <th>Open</th>\n",
       "      <th>High</th>\n",
       "      <th>Low</th>\n",
       "      <th>Close</th>\n",
       "      <th>Adj Close</th>\n",
       "      <th>Volume</th>\n",
       "    </tr>\n",
       "    <tr>\n",
       "      <th>Date</th>\n",
       "      <th></th>\n",
       "      <th></th>\n",
       "      <th></th>\n",
       "      <th></th>\n",
       "      <th></th>\n",
       "      <th></th>\n",
       "    </tr>\n",
       "  </thead>\n",
       "  <tbody>\n",
       "    <tr>\n",
       "      <th>2017-01-03 00:00:00-05:00</th>\n",
       "      <td>28.950001</td>\n",
       "      <td>29.082500</td>\n",
       "      <td>28.690001</td>\n",
       "      <td>29.037500</td>\n",
       "      <td>27.174757</td>\n",
       "      <td>115127600</td>\n",
       "    </tr>\n",
       "    <tr>\n",
       "      <th>2017-01-04 00:00:00-05:00</th>\n",
       "      <td>28.962500</td>\n",
       "      <td>29.127501</td>\n",
       "      <td>28.937500</td>\n",
       "      <td>29.004999</td>\n",
       "      <td>27.144342</td>\n",
       "      <td>84472400</td>\n",
       "    </tr>\n",
       "    <tr>\n",
       "      <th>2017-01-05 00:00:00-05:00</th>\n",
       "      <td>28.980000</td>\n",
       "      <td>29.215000</td>\n",
       "      <td>28.952499</td>\n",
       "      <td>29.152500</td>\n",
       "      <td>27.282379</td>\n",
       "      <td>88774400</td>\n",
       "    </tr>\n",
       "    <tr>\n",
       "      <th>2017-01-06 00:00:00-05:00</th>\n",
       "      <td>29.195000</td>\n",
       "      <td>29.540001</td>\n",
       "      <td>29.117500</td>\n",
       "      <td>29.477501</td>\n",
       "      <td>27.586529</td>\n",
       "      <td>127007600</td>\n",
       "    </tr>\n",
       "    <tr>\n",
       "      <th>2017-01-09 00:00:00-05:00</th>\n",
       "      <td>29.487499</td>\n",
       "      <td>29.857500</td>\n",
       "      <td>29.485001</td>\n",
       "      <td>29.747499</td>\n",
       "      <td>27.839207</td>\n",
       "      <td>134247600</td>\n",
       "    </tr>\n",
       "    <tr>\n",
       "      <th>...</th>\n",
       "      <td>...</td>\n",
       "      <td>...</td>\n",
       "      <td>...</td>\n",
       "      <td>...</td>\n",
       "      <td>...</td>\n",
       "      <td>...</td>\n",
       "    </tr>\n",
       "    <tr>\n",
       "      <th>2022-12-01 00:00:00-05:00</th>\n",
       "      <td>148.210007</td>\n",
       "      <td>149.130005</td>\n",
       "      <td>146.610001</td>\n",
       "      <td>148.309998</td>\n",
       "      <td>148.309998</td>\n",
       "      <td>71250400</td>\n",
       "    </tr>\n",
       "    <tr>\n",
       "      <th>2022-12-02 00:00:00-05:00</th>\n",
       "      <td>145.960007</td>\n",
       "      <td>148.000000</td>\n",
       "      <td>145.649994</td>\n",
       "      <td>147.809998</td>\n",
       "      <td>147.809998</td>\n",
       "      <td>65421400</td>\n",
       "    </tr>\n",
       "    <tr>\n",
       "      <th>2022-12-05 00:00:00-05:00</th>\n",
       "      <td>147.770004</td>\n",
       "      <td>150.919998</td>\n",
       "      <td>145.770004</td>\n",
       "      <td>146.630005</td>\n",
       "      <td>146.630005</td>\n",
       "      <td>68826400</td>\n",
       "    </tr>\n",
       "    <tr>\n",
       "      <th>2022-12-06 00:00:00-05:00</th>\n",
       "      <td>147.070007</td>\n",
       "      <td>147.300003</td>\n",
       "      <td>141.919998</td>\n",
       "      <td>142.910004</td>\n",
       "      <td>142.910004</td>\n",
       "      <td>64727200</td>\n",
       "    </tr>\n",
       "    <tr>\n",
       "      <th>2022-12-07 00:00:00-05:00</th>\n",
       "      <td>142.190002</td>\n",
       "      <td>143.369995</td>\n",
       "      <td>140.000000</td>\n",
       "      <td>140.940002</td>\n",
       "      <td>140.940002</td>\n",
       "      <td>69675300</td>\n",
       "    </tr>\n",
       "  </tbody>\n",
       "</table>\n",
       "<p>1494 rows × 6 columns</p>\n",
       "</div>"
      ],
      "text/plain": [
       "                                 Open        High         Low       Close  \\\n",
       "Date                                                                        \n",
       "2017-01-03 00:00:00-05:00   28.950001   29.082500   28.690001   29.037500   \n",
       "2017-01-04 00:00:00-05:00   28.962500   29.127501   28.937500   29.004999   \n",
       "2017-01-05 00:00:00-05:00   28.980000   29.215000   28.952499   29.152500   \n",
       "2017-01-06 00:00:00-05:00   29.195000   29.540001   29.117500   29.477501   \n",
       "2017-01-09 00:00:00-05:00   29.487499   29.857500   29.485001   29.747499   \n",
       "...                               ...         ...         ...         ...   \n",
       "2022-12-01 00:00:00-05:00  148.210007  149.130005  146.610001  148.309998   \n",
       "2022-12-02 00:00:00-05:00  145.960007  148.000000  145.649994  147.809998   \n",
       "2022-12-05 00:00:00-05:00  147.770004  150.919998  145.770004  146.630005   \n",
       "2022-12-06 00:00:00-05:00  147.070007  147.300003  141.919998  142.910004   \n",
       "2022-12-07 00:00:00-05:00  142.190002  143.369995  140.000000  140.940002   \n",
       "\n",
       "                            Adj Close     Volume  \n",
       "Date                                              \n",
       "2017-01-03 00:00:00-05:00   27.174757  115127600  \n",
       "2017-01-04 00:00:00-05:00   27.144342   84472400  \n",
       "2017-01-05 00:00:00-05:00   27.282379   88774400  \n",
       "2017-01-06 00:00:00-05:00   27.586529  127007600  \n",
       "2017-01-09 00:00:00-05:00   27.839207  134247600  \n",
       "...                               ...        ...  \n",
       "2022-12-01 00:00:00-05:00  148.309998   71250400  \n",
       "2022-12-02 00:00:00-05:00  147.809998   65421400  \n",
       "2022-12-05 00:00:00-05:00  146.630005   68826400  \n",
       "2022-12-06 00:00:00-05:00  142.910004   64727200  \n",
       "2022-12-07 00:00:00-05:00  140.940002   69675300  \n",
       "\n",
       "[1494 rows x 6 columns]"
      ]
     },
     "execution_count": 2,
     "metadata": {},
     "output_type": "execute_result"
    }
   ],
   "source": [
    "from datetime import date\n",
    "\n",
    "# df_aapl=pd.read_csv(\"../input/Data/Stocks/ibm.us.txt\", parse_dates=True, index_col=0)\n",
    "df = pd.read_csv('../stock/AAPL.csv', parse_dates=True, index_col=0)\n",
    "\n",
    "df"
   ]
  },
  {
   "cell_type": "code",
   "execution_count": 3,
   "metadata": {},
   "outputs": [],
   "source": [
    "df = df[['Close']]"
   ]
  },
  {
   "cell_type": "code",
   "execution_count": 4,
   "metadata": {},
   "outputs": [],
   "source": [
    "df=df.fillna(method='ffill')\n",
    "scaler = MinMaxScaler(feature_range=(-1, 1))\n",
    "df['Close'] = scaler.fit_transform(df['Close'].values.reshape(-1,1))"
   ]
  },
  {
   "cell_type": "code",
   "execution_count": 5,
   "metadata": {},
   "outputs": [
    {
     "name": "stdout",
     "output_type": "stream",
     "text": [
      "(1494, 1)\n",
      "x_train.shape =  (1294, 19, 1)\n",
      "y_train.shape =  (1294, 1)\n",
      "x_test.shape =  (180, 19, 1)\n",
      "y_test.shape =  (180, 1)\n"
     ]
    }
   ],
   "source": [
    "# function to create train, test data given stock data and sequence length\n",
    "def load_data(stock, look_back):\n",
    "    data_raw = stock.values # convert to numpy array\n",
    "    print(data_raw.shape)\n",
    "    data = []\n",
    "    \n",
    "    # create all possible sequences of length look_back\n",
    "    for index in range(len(data_raw) - look_back): \n",
    "        data.append(data_raw[index: index + look_back])\n",
    "        \n",
    "    data = np.array(data);\n",
    "    # test_set_size = int(np.round(0.2*data.shape[0]));\n",
    "    test_set_size = 180;\n",
    "    train_set_size = data.shape[0] - (test_set_size);\n",
    "    \n",
    "    x_train = data[:train_set_size,:-1,:]\n",
    "    y_train = data[:train_set_size,-1,:]\n",
    "    \n",
    "    x_test = data[train_set_size:,:-1]\n",
    "    y_test = data[train_set_size:,-1,:]\n",
    "    \n",
    "    return [x_train, y_train, x_test, y_test]\n",
    "\n",
    "look_back = 20 # choose sequence length\n",
    "x_train, y_train, x_test, y_test = load_data(df, look_back)\n",
    "print('x_train.shape = ',x_train.shape)\n",
    "print('y_train.shape = ',y_train.shape)\n",
    "print('x_test.shape = ',x_test.shape)\n",
    "print('y_test.shape = ',y_test.shape)"
   ]
  },
  {
   "cell_type": "code",
   "execution_count": 11,
   "metadata": {},
   "outputs": [
    {
     "name": "stderr",
     "output_type": "stream",
     "text": [
      "<>:1: SyntaxWarning: list indices must be integers or slices, not tuple; perhaps you missed a comma?\n",
      "<>:1: SyntaxWarning: list indices must be integers or slices, not tuple; perhaps you missed a comma?\n",
      "/tmp/ipykernel_1450/2238204267.py:1: SyntaxWarning: list indices must be integers or slices, not tuple; perhaps you missed a comma?\n",
      "  y = np.array([\n",
      "/tmp/ipykernel_1450/2238204267.py:1: SyntaxWarning: list indices must be integers or slices, not tuple; perhaps you missed a comma?\n",
      "  y = np.array([\n",
      "/tmp/ipykernel_1450/2238204267.py:1: SyntaxWarning: list indices must be integers or slices, not tuple; perhaps you missed a comma?\n",
      "  y = np.array([\n"
     ]
    },
    {
     "ename": "TypeError",
     "evalue": "list indices must be integers or slices, not tuple",
     "output_type": "error",
     "traceback": [
      "\u001b[0;31m---------------------------------------------------------------------------\u001b[0m",
      "\u001b[0;31mTypeError\u001b[0m                                 Traceback (most recent call last)",
      "\u001b[1;32m/home/silvio/OneDrive/github/stockpy/notebooks/lstm_model.ipynb Cell 6\u001b[0m in \u001b[0;36m<cell line: 1>\u001b[0;34m()\u001b[0m\n\u001b[0;32m----> <a href='vscode-notebook-cell:/home/silvio/OneDrive/github/stockpy/notebooks/lstm_model.ipynb#X25sZmlsZQ%3D%3D?line=0'>1</a>\u001b[0m y \u001b[39m=\u001b[39m np\u001b[39m.\u001b[39marray([\n\u001b[1;32m      <a href='vscode-notebook-cell:/home/silvio/OneDrive/github/stockpy/notebooks/lstm_model.ipynb#X25sZmlsZQ%3D%3D?line=1'>2</a>\u001b[0m                 [\u001b[39m1\u001b[39;49m,\u001b[39m2\u001b[39;49m,\u001b[39m3\u001b[39;49m],\n\u001b[1;32m      <a href='vscode-notebook-cell:/home/silvio/OneDrive/github/stockpy/notebooks/lstm_model.ipynb#X25sZmlsZQ%3D%3D?line=2'>3</a>\u001b[0m                 [\u001b[39m1\u001b[39;49m,\u001b[39m2\u001b[39;49m,\u001b[39m3\u001b[39;49m],\n\u001b[1;32m      <a href='vscode-notebook-cell:/home/silvio/OneDrive/github/stockpy/notebooks/lstm_model.ipynb#X25sZmlsZQ%3D%3D?line=3'>4</a>\u001b[0m                 [\u001b[39m1\u001b[39;49m,\u001b[39m2\u001b[39;49m,\u001b[39m3\u001b[39;49m],\n\u001b[1;32m      <a href='vscode-notebook-cell:/home/silvio/OneDrive/github/stockpy/notebooks/lstm_model.ipynb#X25sZmlsZQ%3D%3D?line=4'>5</a>\u001b[0m ][\n\u001b[1;32m      <a href='vscode-notebook-cell:/home/silvio/OneDrive/github/stockpy/notebooks/lstm_model.ipynb#X25sZmlsZQ%3D%3D?line=5'>6</a>\u001b[0m                 [\u001b[39m1\u001b[39;49m,\u001b[39m2\u001b[39;49m,\u001b[39m3\u001b[39;49m],\n\u001b[1;32m      <a href='vscode-notebook-cell:/home/silvio/OneDrive/github/stockpy/notebooks/lstm_model.ipynb#X25sZmlsZQ%3D%3D?line=6'>7</a>\u001b[0m                 [\u001b[39m1\u001b[39;49m,\u001b[39m2\u001b[39;49m,\u001b[39m3\u001b[39;49m],\n\u001b[1;32m      <a href='vscode-notebook-cell:/home/silvio/OneDrive/github/stockpy/notebooks/lstm_model.ipynb#X25sZmlsZQ%3D%3D?line=7'>8</a>\u001b[0m                 [\u001b[39m1\u001b[39;49m,\u001b[39m2\u001b[39;49m,\u001b[39m3\u001b[39;49m],\n\u001b[1;32m      <a href='vscode-notebook-cell:/home/silvio/OneDrive/github/stockpy/notebooks/lstm_model.ipynb#X25sZmlsZQ%3D%3D?line=8'>9</a>\u001b[0m ])\n",
      "\u001b[0;31mTypeError\u001b[0m: list indices must be integers or slices, not tuple"
     ]
    }
   ],
   "source": [
    "y = np.array([[\n",
    "                [1,2,3],\n",
    "                [1,2,3],\n",
    "                [1,2,3],\n",
    "][\n",
    "                [1,2,3],\n",
    "                [1,2,3],\n",
    "                [1,2,3],\n",
    "]])"
   ]
  },
  {
   "cell_type": "code",
   "execution_count": 57,
   "metadata": {},
   "outputs": [],
   "source": [
    "# make training and test sets in torch\n",
    "x_train = torch.from_numpy(x_train).type(torch.Tensor)\n",
    "x_test = torch.from_numpy(x_test).type(torch.Tensor)\n",
    "y_train = torch.from_numpy(y_train).type(torch.Tensor)\n",
    "y_test = torch.from_numpy(y_test).type(torch.Tensor)"
   ]
  },
  {
   "cell_type": "code",
   "execution_count": 71,
   "metadata": {},
   "outputs": [
    {
     "data": {
      "text/plain": [
       "((1294, 1), torch.Size([1294, 19, 1]))"
      ]
     },
     "execution_count": 71,
     "metadata": {},
     "output_type": "execute_result"
    }
   ],
   "source": [
    "y_train.shape, x_train.shape"
   ]
  },
  {
   "cell_type": "code",
   "execution_count": 59,
   "metadata": {},
   "outputs": [],
   "source": [
    "input_dim = 1\n",
    "hidden_dim = 128\n",
    "num_layers = 2\n",
    "output_dim = 1\n",
    "\n",
    "class LSTM(nn.Module):\n",
    "    def __init__(self, input_dim=1, hidden_dim=32, num_layers=2, output_dim=1, dropout=0.2):\n",
    "        super(LSTM, self).__init__()\n",
    "        # Hidden dimensions\n",
    "        self.input_dim = input_dim\n",
    "        self.hidden_dim = hidden_dim\n",
    "        self.num_layers = num_layers\n",
    "\n",
    "        self.lstm = nn.LSTM(input_dim, hidden_dim, num_layers, batch_first=True)\n",
    "\n",
    "        self.dropout = nn.Dropout(dropout)\n",
    "        # Readout layer\n",
    "        self.fc = nn.Linear(hidden_dim, output_dim)\n",
    "\n",
    "\n",
    "    def forward(self, x):\n",
    "        h0 = Variable(torch.zeros(\n",
    "            self.num_layers, x.size(0), self.hidden_dim))\n",
    "        \n",
    "        c0 = Variable(torch.zeros(\n",
    "            self.num_layers, x.size(0), self.hidden_dim))\n",
    "        \n",
    "        # h0 = torch.zeros(self.num_layers, x.size(0), self.hidden_dim).requires_grad_()\n",
    "\n",
    "        # Initialize cell state\n",
    "        # c0 = torch.zeros(self.num_layers, x.size(0), self.hidden_dim).requires_grad_()\n",
    "\n",
    "        # We need to detach as we are doing truncated backpropagation through time (BPTT)\n",
    "        # If we don't, we'll backprop all the way to the start even after going through another batch\n",
    "        out, (hn, cn) = self.lstm(x, (h0.detach(), c0.detach()))\n",
    "\n",
    "        # reshape output from hidden cell into [batch, features] for 'linear_2'\n",
    "        x = self.dropout(x)\n",
    "        # Index hidden state of last time step\n",
    "        # out.size() --> 100, 32, 100\n",
    "        # out[:, -1, :] --> 100, 100 --> just want last time step hidden states! \n",
    "        out = self.fc(out[:, -1, :]) \n",
    "        # out.size() --> 100, 10\n",
    "        return out\n",
    "\n",
    "model = LSTM(input_dim=1, hidden_dim=128, num_layers=2, output_dim=1, dropout=0.2)\n",
    "loss_fn = torch.nn.MSELoss()\n",
    "\n",
    "optimiser = torch.optim.Adam(model.parameters(), lr=0.01)\n",
    "# print(model)\n",
    "# print(len(list(model.parameters())))\n",
    "# for i in range(len(list(model.parameters()))):\n",
    "#    print(list(model.parameters())[i].size())"
   ]
  },
  {
   "cell_type": "code",
   "execution_count": 60,
   "metadata": {},
   "outputs": [
    {
     "data": {
      "text/plain": [
       "' Normal\\nLSTM(\\n  (lstm): LSTM(1, 32, num_layers=2, batch_first=True)\\n  (dropout): Dropout(p=0.2, inplace=False)\\n  (fc): Linear(in_features=32, out_features=1, bias=True)\\n)\\n10\\ntorch.Size([128, 1])\\ntorch.Size([128, 32])\\ntorch.Size([128])\\ntorch.Size([128])\\ntorch.Size([128, 32])\\ntorch.Size([128, 32])\\ntorch.Size([128])\\ntorch.Size([128])\\ntorch.Size([1, 32])\\ntorch.Size([1])\\n'"
      ]
     },
     "execution_count": 60,
     "metadata": {},
     "output_type": "execute_result"
    }
   ],
   "source": [
    "''' linear and relu \n",
    "LSTM(\n",
    "  (linear_1): Linear(in_features=1, out_features=32, bias=True)\n",
    "  (relu): ReLU()\n",
    "  (lstm): LSTM(1, 32, num_layers=2, batch_first=True)\n",
    "  (dropout): Dropout(p=0.2, inplace=False)\n",
    "  (fc): Linear(in_features=32, out_features=1, bias=True)\n",
    ")\n",
    "12\n",
    "torch.Size([32, 1])\n",
    "torch.Size([32])\n",
    "torch.Size([128, 1])\n",
    "torch.Size([128, 32])\n",
    "torch.Size([128])\n",
    "torch.Size([128])\n",
    "torch.Size([128, 32])\n",
    "torch.Size([128, 32])\n",
    "torch.Size([128])\n",
    "torch.Size([128])\n",
    "torch.Size([1, 32])\n",
    "torch.Size([1])\n",
    "'''\n",
    "\n",
    "''' Normal\n",
    "LSTM(\n",
    "  (lstm): LSTM(1, 32, num_layers=2, batch_first=True)\n",
    "  (dropout): Dropout(p=0.2, inplace=False)\n",
    "  (fc): Linear(in_features=32, out_features=1, bias=True)\n",
    ")\n",
    "10\n",
    "torch.Size([128, 1])\n",
    "torch.Size([128, 32])\n",
    "torch.Size([128])\n",
    "torch.Size([128])\n",
    "torch.Size([128, 32])\n",
    "torch.Size([128, 32])\n",
    "torch.Size([128])\n",
    "torch.Size([128])\n",
    "torch.Size([1, 32])\n",
    "torch.Size([1])\n",
    "'''\n"
   ]
  },
  {
   "cell_type": "code",
   "execution_count": 61,
   "metadata": {},
   "outputs": [
    {
     "name": "stdout",
     "output_type": "stream",
     "text": [
      "Epoch  10 MSE:  0.2745843827724457\n",
      "Epoch  20 MSE:  0.053533151745796204\n",
      "Epoch  30 MSE:  0.0282864011824131\n",
      "Epoch  40 MSE:  0.005052060354501009\n",
      "Epoch  50 MSE:  0.0030582540202885866\n",
      "Epoch  60 MSE:  0.001604989287443459\n",
      "Epoch  70 MSE:  0.0016519742785021663\n",
      "Epoch  80 MSE:  0.0014136363752186298\n",
      "Epoch  90 MSE:  0.0013665914302691817\n"
     ]
    }
   ],
   "source": [
    "# Train model\n",
    "#####################\n",
    "num_epochs = 100\n",
    "hist = np.zeros(num_epochs)\n",
    "\n",
    "# Number of steps to unroll\n",
    "for t in range(num_epochs):\n",
    "    # Initialise hidden state\n",
    "    # Don't do this if you want your LSTM to be stateful\n",
    "    # model.hidden = model.init_hidden()\n",
    "    \n",
    "    # Forward pass\n",
    "    y_train_pred = model(x_train)\n",
    "\n",
    "    loss = loss_fn(y_train_pred, y_train)\n",
    "    if t % 10 == 0 and t !=0:\n",
    "        print(\"Epoch \", t, \"MSE: \", loss.item())\n",
    "    hist[t] = loss.item()\n",
    "\n",
    "    # Zero out gradient, else they will accumulate between epochs\n",
    "    optimiser.zero_grad()\n",
    "\n",
    "    # Backward pass\n",
    "    loss.backward()\n",
    "\n",
    "    # Update parameters\n",
    "    optimiser.step()"
   ]
  },
  {
   "cell_type": "code",
   "execution_count": 62,
   "metadata": {},
   "outputs": [
    {
     "name": "stdout",
     "output_type": "stream",
     "text": [
      "Train Score: 2.76 RMSE\n",
      "Test Score: 5.73 RMSE\n"
     ]
    }
   ],
   "source": [
    "# make predictions\n",
    "y_test_pred = model(x_test)\n",
    "\n",
    "# invert predictions\n",
    "y_train_pred = scaler.inverse_transform(y_train_pred.detach().numpy())\n",
    "y_train = scaler.inverse_transform(y_train.detach().numpy())\n",
    "y_test_pred = scaler.inverse_transform(y_test_pred.detach().numpy())\n",
    "y_test = scaler.inverse_transform(y_test.detach().numpy())\n",
    "\n",
    "# calculate root mean squared error\n",
    "trainScore = math.sqrt(mean_squared_error(y_train[:,0], y_train_pred[:,0]))\n",
    "print('Train Score: %.2f RMSE' % (trainScore))\n",
    "testScore = math.sqrt(mean_squared_error(y_test[:,0], y_test_pred[:,0]))\n",
    "print('Test Score: %.2f RMSE' % (testScore))"
   ]
  },
  {
   "cell_type": "code",
   "execution_count": 68,
   "metadata": {},
   "outputs": [
    {
     "ename": "TypeError",
     "evalue": "'int' object is not callable",
     "output_type": "error",
     "traceback": [
      "\u001b[0;31m---------------------------------------------------------------------------\u001b[0m",
      "\u001b[0;31mTypeError\u001b[0m                                 Traceback (most recent call last)",
      "\u001b[1;32m/home/silvio/OneDrive/github/stockpy/notebooks/lstm_model.ipynb Cell 12\u001b[0m in \u001b[0;36m<cell line: 2>\u001b[0;34m()\u001b[0m\n\u001b[1;32m      <a href='vscode-notebook-cell:/home/silvio/OneDrive/github/stockpy/notebooks/lstm_model.ipynb#X23sZmlsZQ%3D%3D?line=0'>1</a>\u001b[0m test \u001b[39m=\u001b[39m np\u001b[39m.\u001b[39marray([\u001b[39m28.950001\u001b[39m,\t\u001b[39m29.082500\u001b[39m,\t\u001b[39m28.690001\u001b[39m,\t\u001b[39m115127600\u001b[39m])\n\u001b[0;32m----> <a href='vscode-notebook-cell:/home/silvio/OneDrive/github/stockpy/notebooks/lstm_model.ipynb#X23sZmlsZQ%3D%3D?line=1'>2</a>\u001b[0m test_pred \u001b[39m=\u001b[39m model(test)\n",
      "File \u001b[0;32m~/anaconda3/lib/python3.9/site-packages/torch/nn/modules/module.py:1130\u001b[0m, in \u001b[0;36mModule._call_impl\u001b[0;34m(self, *input, **kwargs)\u001b[0m\n\u001b[1;32m   1126\u001b[0m \u001b[39m# If we don't have any hooks, we want to skip the rest of the logic in\u001b[39;00m\n\u001b[1;32m   1127\u001b[0m \u001b[39m# this function, and just call forward.\u001b[39;00m\n\u001b[1;32m   1128\u001b[0m \u001b[39mif\u001b[39;00m \u001b[39mnot\u001b[39;00m (\u001b[39mself\u001b[39m\u001b[39m.\u001b[39m_backward_hooks \u001b[39mor\u001b[39;00m \u001b[39mself\u001b[39m\u001b[39m.\u001b[39m_forward_hooks \u001b[39mor\u001b[39;00m \u001b[39mself\u001b[39m\u001b[39m.\u001b[39m_forward_pre_hooks \u001b[39mor\u001b[39;00m _global_backward_hooks\n\u001b[1;32m   1129\u001b[0m         \u001b[39mor\u001b[39;00m _global_forward_hooks \u001b[39mor\u001b[39;00m _global_forward_pre_hooks):\n\u001b[0;32m-> 1130\u001b[0m     \u001b[39mreturn\u001b[39;00m forward_call(\u001b[39m*\u001b[39;49m\u001b[39minput\u001b[39;49m, \u001b[39m*\u001b[39;49m\u001b[39m*\u001b[39;49mkwargs)\n\u001b[1;32m   1131\u001b[0m \u001b[39m# Do not call functions when jit is used\u001b[39;00m\n\u001b[1;32m   1132\u001b[0m full_backward_hooks, non_full_backward_hooks \u001b[39m=\u001b[39m [], []\n",
      "\u001b[1;32m/home/silvio/OneDrive/github/stockpy/notebooks/lstm_model.ipynb Cell 12\u001b[0m in \u001b[0;36mLSTM.forward\u001b[0;34m(self, x)\u001b[0m\n\u001b[1;32m     <a href='vscode-notebook-cell:/home/silvio/OneDrive/github/stockpy/notebooks/lstm_model.ipynb#X23sZmlsZQ%3D%3D?line=20'>21</a>\u001b[0m \u001b[39mdef\u001b[39;00m \u001b[39mforward\u001b[39m(\u001b[39mself\u001b[39m, x):\n\u001b[1;32m     <a href='vscode-notebook-cell:/home/silvio/OneDrive/github/stockpy/notebooks/lstm_model.ipynb#X23sZmlsZQ%3D%3D?line=21'>22</a>\u001b[0m     h0 \u001b[39m=\u001b[39m Variable(torch\u001b[39m.\u001b[39mzeros(\n\u001b[0;32m---> <a href='vscode-notebook-cell:/home/silvio/OneDrive/github/stockpy/notebooks/lstm_model.ipynb#X23sZmlsZQ%3D%3D?line=22'>23</a>\u001b[0m         \u001b[39mself\u001b[39m\u001b[39m.\u001b[39mnum_layers, x\u001b[39m.\u001b[39;49msize(\u001b[39m0\u001b[39;49m), \u001b[39mself\u001b[39m\u001b[39m.\u001b[39mhidden_dim))\n\u001b[1;32m     <a href='vscode-notebook-cell:/home/silvio/OneDrive/github/stockpy/notebooks/lstm_model.ipynb#X23sZmlsZQ%3D%3D?line=24'>25</a>\u001b[0m     c0 \u001b[39m=\u001b[39m Variable(torch\u001b[39m.\u001b[39mzeros(\n\u001b[1;32m     <a href='vscode-notebook-cell:/home/silvio/OneDrive/github/stockpy/notebooks/lstm_model.ipynb#X23sZmlsZQ%3D%3D?line=25'>26</a>\u001b[0m         \u001b[39mself\u001b[39m\u001b[39m.\u001b[39mnum_layers, x\u001b[39m.\u001b[39msize(\u001b[39m0\u001b[39m), \u001b[39mself\u001b[39m\u001b[39m.\u001b[39mhidden_dim))\n\u001b[1;32m     <a href='vscode-notebook-cell:/home/silvio/OneDrive/github/stockpy/notebooks/lstm_model.ipynb#X23sZmlsZQ%3D%3D?line=27'>28</a>\u001b[0m     \u001b[39m# h0 = torch.zeros(self.num_layers, x.size(0), self.hidden_dim).requires_grad_()\u001b[39;00m\n\u001b[1;32m     <a href='vscode-notebook-cell:/home/silvio/OneDrive/github/stockpy/notebooks/lstm_model.ipynb#X23sZmlsZQ%3D%3D?line=28'>29</a>\u001b[0m \n\u001b[1;32m     <a href='vscode-notebook-cell:/home/silvio/OneDrive/github/stockpy/notebooks/lstm_model.ipynb#X23sZmlsZQ%3D%3D?line=29'>30</a>\u001b[0m     \u001b[39m# Initialize cell state\u001b[39;00m\n\u001b[0;32m   (...)\u001b[0m\n\u001b[1;32m     <a href='vscode-notebook-cell:/home/silvio/OneDrive/github/stockpy/notebooks/lstm_model.ipynb#X23sZmlsZQ%3D%3D?line=32'>33</a>\u001b[0m     \u001b[39m# We need to detach as we are doing truncated backpropagation through time (BPTT)\u001b[39;00m\n\u001b[1;32m     <a href='vscode-notebook-cell:/home/silvio/OneDrive/github/stockpy/notebooks/lstm_model.ipynb#X23sZmlsZQ%3D%3D?line=33'>34</a>\u001b[0m     \u001b[39m# If we don't, we'll backprop all the way to the start even after going through another batch\u001b[39;00m\n",
      "\u001b[0;31mTypeError\u001b[0m: 'int' object is not callable"
     ]
    }
   ],
   "source": [
    "test = np.array([28.950001,\t29.082500,\t28.690001,\t115127600])\n",
    "test_pred = model(test)"
   ]
  },
  {
   "cell_type": "code",
   "execution_count": 63,
   "metadata": {},
   "outputs": [
    {
     "data": {
      "image/png": "[encoded data removed]",
      "text/plain": [
       "<Figure size 432x288 with 1 Axes>"
      ]
     },
     "metadata": {
      "needs_background": "light"
     },
     "output_type": "display_data"
    }
   ],
   "source": [
    "plt.plot(hist, label=\"Training loss\")\n",
    "plt.legend()\n",
    "plt.show()"
   ]
  },
  {
   "cell_type": "code",
   "execution_count": 64,
   "metadata": {},
   "outputs": [
    {
     "data": {
      "text/plain": [
       "Index([2022-03-23 00:00:00-04:00, 2022-03-24 00:00:00-04:00,\n",
       "       2022-03-25 00:00:00-04:00, 2022-03-28 00:00:00-04:00,\n",
       "       2022-03-29 00:00:00-04:00, 2022-03-30 00:00:00-04:00,\n",
       "       2022-03-31 00:00:00-04:00, 2022-04-01 00:00:00-04:00,\n",
       "       2022-04-04 00:00:00-04:00, 2022-04-05 00:00:00-04:00,\n",
       "       ...\n",
       "       2022-11-23 00:00:00-05:00, 2022-11-25 00:00:00-05:00,\n",
       "       2022-11-28 00:00:00-05:00, 2022-11-29 00:00:00-05:00,\n",
       "       2022-11-30 00:00:00-05:00, 2022-12-01 00:00:00-05:00,\n",
       "       2022-12-02 00:00:00-05:00, 2022-12-05 00:00:00-05:00,\n",
       "       2022-12-06 00:00:00-05:00, 2022-12-07 00:00:00-05:00],\n",
       "      dtype='object', name='Date', length=180)"
      ]
     },
     "execution_count": 64,
     "metadata": {},
     "output_type": "execute_result"
    }
   ],
   "source": [
    "df[len(df)-len(y_test):].index"
   ]
  },
  {
   "cell_type": "code",
   "execution_count": 65,
   "metadata": {},
   "outputs": [
    {
     "data": {
      "image/png": "[encoded data removed]",
      "text/plain": [
       "<Figure size 1080x432 with 1 Axes>"
      ]
     },
     "metadata": {
      "needs_background": "light"
     },
     "output_type": "display_data"
    }
   ],
   "source": [
    "# Visualising the results\n",
    "figure, ax = plt.subplots(figsize=(15, 6))\n",
    "ax.xaxis_date()\n",
    "\n",
    "ax.plot(df[len(df)-len(y_test):].index, y_test, color = 'red', label = 'Real Santander Stock Price')\n",
    "ax.plot(df[len(df)-len(y_test):].index, y_test_pred, color = 'blue', label = 'Predicted Santander Stock Price')\n",
    "#axes.xticks(np.arange(0,394,50))\n",
    "plt.title('Santander Stock Price Prediction')\n",
    "plt.xlabel('Time')\n",
    "plt.ylabel('Santander Stock Price')\n",
    "plt.legend()\n",
    "plt.savefig('aapl_pred.png')\n",
    "plt.show()"
   ]
  },
  {
   "cell_type": "code",
   "execution_count": 66,
   "metadata": {},
   "outputs": [
    {
     "ename": "FileNotFoundError",
     "evalue": "[Errno 2] No such file or directory: 'stock/BBVA.csv'",
     "output_type": "error",
     "traceback": [
      "\u001b[0;31m---------------------------------------------------------------------------\u001b[0m",
      "\u001b[0;31mFileNotFoundError\u001b[0m                         Traceback (most recent call last)",
      "\u001b[1;32m/home/silvio/OneDrive/github/stockpy/notebooks/lstm_model.ipynb Cell 15\u001b[0m in \u001b[0;36m<cell line: 1>\u001b[0;34m()\u001b[0m\n\u001b[0;32m----> <a href='vscode-notebook-cell:/home/silvio/OneDrive/github/stockpy/notebooks/lstm_model.ipynb#X20sZmlsZQ%3D%3D?line=0'>1</a>\u001b[0m df \u001b[39m=\u001b[39m pd\u001b[39m.\u001b[39;49mread_csv(\u001b[39m'\u001b[39;49m\u001b[39mstock/BBVA.csv\u001b[39;49m\u001b[39m'\u001b[39;49m)\n\u001b[1;32m      <a href='vscode-notebook-cell:/home/silvio/OneDrive/github/stockpy/notebooks/lstm_model.ipynb#X20sZmlsZQ%3D%3D?line=1'>2</a>\u001b[0m df \u001b[39m=\u001b[39m df\u001b[39m.\u001b[39mloc[df[\u001b[39m'\u001b[39m\u001b[39mDate\u001b[39m\u001b[39m'\u001b[39m] \u001b[39m>\u001b[39m \u001b[39m\"\u001b[39m\u001b[39m2022-09-19\u001b[39m\u001b[39m\"\u001b[39m]\n\u001b[1;32m      <a href='vscode-notebook-cell:/home/silvio/OneDrive/github/stockpy/notebooks/lstm_model.ipynb#X20sZmlsZQ%3D%3D?line=3'>4</a>\u001b[0m df\u001b[39m.\u001b[39mset_index(\u001b[39m'\u001b[39m\u001b[39mDate\u001b[39m\u001b[39m'\u001b[39m)\n",
      "File \u001b[0;32m~/anaconda3/lib/python3.9/site-packages/pandas/util/_decorators.py:311\u001b[0m, in \u001b[0;36mdeprecate_nonkeyword_arguments.<locals>.decorate.<locals>.wrapper\u001b[0;34m(*args, **kwargs)\u001b[0m\n\u001b[1;32m    305\u001b[0m \u001b[39mif\u001b[39;00m \u001b[39mlen\u001b[39m(args) \u001b[39m>\u001b[39m num_allow_args:\n\u001b[1;32m    306\u001b[0m     warnings\u001b[39m.\u001b[39mwarn(\n\u001b[1;32m    307\u001b[0m         msg\u001b[39m.\u001b[39mformat(arguments\u001b[39m=\u001b[39marguments),\n\u001b[1;32m    308\u001b[0m         \u001b[39mFutureWarning\u001b[39;00m,\n\u001b[1;32m    309\u001b[0m         stacklevel\u001b[39m=\u001b[39mstacklevel,\n\u001b[1;32m    310\u001b[0m     )\n\u001b[0;32m--> 311\u001b[0m \u001b[39mreturn\u001b[39;00m func(\u001b[39m*\u001b[39;49margs, \u001b[39m*\u001b[39;49m\u001b[39m*\u001b[39;49mkwargs)\n",
      "File \u001b[0;32m~/anaconda3/lib/python3.9/site-packages/pandas/io/parsers/readers.py:680\u001b[0m, in \u001b[0;36mread_csv\u001b[0;34m(filepath_or_buffer, sep, delimiter, header, names, index_col, usecols, squeeze, prefix, mangle_dupe_cols, dtype, engine, converters, true_values, false_values, skipinitialspace, skiprows, skipfooter, nrows, na_values, keep_default_na, na_filter, verbose, skip_blank_lines, parse_dates, infer_datetime_format, keep_date_col, date_parser, dayfirst, cache_dates, iterator, chunksize, compression, thousands, decimal, lineterminator, quotechar, quoting, doublequote, escapechar, comment, encoding, encoding_errors, dialect, error_bad_lines, warn_bad_lines, on_bad_lines, delim_whitespace, low_memory, memory_map, float_precision, storage_options)\u001b[0m\n\u001b[1;32m    665\u001b[0m kwds_defaults \u001b[39m=\u001b[39m _refine_defaults_read(\n\u001b[1;32m    666\u001b[0m     dialect,\n\u001b[1;32m    667\u001b[0m     delimiter,\n\u001b[0;32m   (...)\u001b[0m\n\u001b[1;32m    676\u001b[0m     defaults\u001b[39m=\u001b[39m{\u001b[39m\"\u001b[39m\u001b[39mdelimiter\u001b[39m\u001b[39m\"\u001b[39m: \u001b[39m\"\u001b[39m\u001b[39m,\u001b[39m\u001b[39m\"\u001b[39m},\n\u001b[1;32m    677\u001b[0m )\n\u001b[1;32m    678\u001b[0m kwds\u001b[39m.\u001b[39mupdate(kwds_defaults)\n\u001b[0;32m--> 680\u001b[0m \u001b[39mreturn\u001b[39;00m _read(filepath_or_buffer, kwds)\n",
      "File \u001b[0;32m~/anaconda3/lib/python3.9/site-packages/pandas/io/parsers/readers.py:575\u001b[0m, in \u001b[0;36m_read\u001b[0;34m(filepath_or_buffer, kwds)\u001b[0m\n\u001b[1;32m    572\u001b[0m _validate_names(kwds\u001b[39m.\u001b[39mget(\u001b[39m\"\u001b[39m\u001b[39mnames\u001b[39m\u001b[39m\"\u001b[39m, \u001b[39mNone\u001b[39;00m))\n\u001b[1;32m    574\u001b[0m \u001b[39m# Create the parser.\u001b[39;00m\n\u001b[0;32m--> 575\u001b[0m parser \u001b[39m=\u001b[39m TextFileReader(filepath_or_buffer, \u001b[39m*\u001b[39;49m\u001b[39m*\u001b[39;49mkwds)\n\u001b[1;32m    577\u001b[0m \u001b[39mif\u001b[39;00m chunksize \u001b[39mor\u001b[39;00m iterator:\n\u001b[1;32m    578\u001b[0m     \u001b[39mreturn\u001b[39;00m parser\n",
      "File \u001b[0;32m~/anaconda3/lib/python3.9/site-packages/pandas/io/parsers/readers.py:933\u001b[0m, in \u001b[0;36mTextFileReader.__init__\u001b[0;34m(self, f, engine, **kwds)\u001b[0m\n\u001b[1;32m    930\u001b[0m     \u001b[39mself\u001b[39m\u001b[39m.\u001b[39moptions[\u001b[39m\"\u001b[39m\u001b[39mhas_index_names\u001b[39m\u001b[39m\"\u001b[39m] \u001b[39m=\u001b[39m kwds[\u001b[39m\"\u001b[39m\u001b[39mhas_index_names\u001b[39m\u001b[39m\"\u001b[39m]\n\u001b[1;32m    932\u001b[0m \u001b[39mself\u001b[39m\u001b[39m.\u001b[39mhandles: IOHandles \u001b[39m|\u001b[39m \u001b[39mNone\u001b[39;00m \u001b[39m=\u001b[39m \u001b[39mNone\u001b[39;00m\n\u001b[0;32m--> 933\u001b[0m \u001b[39mself\u001b[39m\u001b[39m.\u001b[39m_engine \u001b[39m=\u001b[39m \u001b[39mself\u001b[39;49m\u001b[39m.\u001b[39;49m_make_engine(f, \u001b[39mself\u001b[39;49m\u001b[39m.\u001b[39;49mengine)\n",
      "File \u001b[0;32m~/anaconda3/lib/python3.9/site-packages/pandas/io/parsers/readers.py:1217\u001b[0m, in \u001b[0;36mTextFileReader._make_engine\u001b[0;34m(self, f, engine)\u001b[0m\n\u001b[1;32m   1213\u001b[0m     mode \u001b[39m=\u001b[39m \u001b[39m\"\u001b[39m\u001b[39mrb\u001b[39m\u001b[39m\"\u001b[39m\n\u001b[1;32m   1214\u001b[0m \u001b[39m# error: No overload variant of \"get_handle\" matches argument types\u001b[39;00m\n\u001b[1;32m   1215\u001b[0m \u001b[39m# \"Union[str, PathLike[str], ReadCsvBuffer[bytes], ReadCsvBuffer[str]]\"\u001b[39;00m\n\u001b[1;32m   1216\u001b[0m \u001b[39m# , \"str\", \"bool\", \"Any\", \"Any\", \"Any\", \"Any\", \"Any\"\u001b[39;00m\n\u001b[0;32m-> 1217\u001b[0m \u001b[39mself\u001b[39m\u001b[39m.\u001b[39mhandles \u001b[39m=\u001b[39m get_handle(  \u001b[39m# type: ignore[call-overload]\u001b[39;49;00m\n\u001b[1;32m   1218\u001b[0m     f,\n\u001b[1;32m   1219\u001b[0m     mode,\n\u001b[1;32m   1220\u001b[0m     encoding\u001b[39m=\u001b[39;49m\u001b[39mself\u001b[39;49m\u001b[39m.\u001b[39;49moptions\u001b[39m.\u001b[39;49mget(\u001b[39m\"\u001b[39;49m\u001b[39mencoding\u001b[39;49m\u001b[39m\"\u001b[39;49m, \u001b[39mNone\u001b[39;49;00m),\n\u001b[1;32m   1221\u001b[0m     compression\u001b[39m=\u001b[39;49m\u001b[39mself\u001b[39;49m\u001b[39m.\u001b[39;49moptions\u001b[39m.\u001b[39;49mget(\u001b[39m\"\u001b[39;49m\u001b[39mcompression\u001b[39;49m\u001b[39m\"\u001b[39;49m, \u001b[39mNone\u001b[39;49;00m),\n\u001b[1;32m   1222\u001b[0m     memory_map\u001b[39m=\u001b[39;49m\u001b[39mself\u001b[39;49m\u001b[39m.\u001b[39;49moptions\u001b[39m.\u001b[39;49mget(\u001b[39m\"\u001b[39;49m\u001b[39mmemory_map\u001b[39;49m\u001b[39m\"\u001b[39;49m, \u001b[39mFalse\u001b[39;49;00m),\n\u001b[1;32m   1223\u001b[0m     is_text\u001b[39m=\u001b[39;49mis_text,\n\u001b[1;32m   1224\u001b[0m     errors\u001b[39m=\u001b[39;49m\u001b[39mself\u001b[39;49m\u001b[39m.\u001b[39;49moptions\u001b[39m.\u001b[39;49mget(\u001b[39m\"\u001b[39;49m\u001b[39mencoding_errors\u001b[39;49m\u001b[39m\"\u001b[39;49m, \u001b[39m\"\u001b[39;49m\u001b[39mstrict\u001b[39;49m\u001b[39m\"\u001b[39;49m),\n\u001b[1;32m   1225\u001b[0m     storage_options\u001b[39m=\u001b[39;49m\u001b[39mself\u001b[39;49m\u001b[39m.\u001b[39;49moptions\u001b[39m.\u001b[39;49mget(\u001b[39m\"\u001b[39;49m\u001b[39mstorage_options\u001b[39;49m\u001b[39m\"\u001b[39;49m, \u001b[39mNone\u001b[39;49;00m),\n\u001b[1;32m   1226\u001b[0m )\n\u001b[1;32m   1227\u001b[0m \u001b[39massert\u001b[39;00m \u001b[39mself\u001b[39m\u001b[39m.\u001b[39mhandles \u001b[39mis\u001b[39;00m \u001b[39mnot\u001b[39;00m \u001b[39mNone\u001b[39;00m\n\u001b[1;32m   1228\u001b[0m f \u001b[39m=\u001b[39m \u001b[39mself\u001b[39m\u001b[39m.\u001b[39mhandles\u001b[39m.\u001b[39mhandle\n",
      "File \u001b[0;32m~/anaconda3/lib/python3.9/site-packages/pandas/io/common.py:789\u001b[0m, in \u001b[0;36mget_handle\u001b[0;34m(path_or_buf, mode, encoding, compression, memory_map, is_text, errors, storage_options)\u001b[0m\n\u001b[1;32m    784\u001b[0m \u001b[39melif\u001b[39;00m \u001b[39misinstance\u001b[39m(handle, \u001b[39mstr\u001b[39m):\n\u001b[1;32m    785\u001b[0m     \u001b[39m# Check whether the filename is to be opened in binary mode.\u001b[39;00m\n\u001b[1;32m    786\u001b[0m     \u001b[39m# Binary mode does not support 'encoding' and 'newline'.\u001b[39;00m\n\u001b[1;32m    787\u001b[0m     \u001b[39mif\u001b[39;00m ioargs\u001b[39m.\u001b[39mencoding \u001b[39mand\u001b[39;00m \u001b[39m\"\u001b[39m\u001b[39mb\u001b[39m\u001b[39m\"\u001b[39m \u001b[39mnot\u001b[39;00m \u001b[39min\u001b[39;00m ioargs\u001b[39m.\u001b[39mmode:\n\u001b[1;32m    788\u001b[0m         \u001b[39m# Encoding\u001b[39;00m\n\u001b[0;32m--> 789\u001b[0m         handle \u001b[39m=\u001b[39m \u001b[39mopen\u001b[39;49m(\n\u001b[1;32m    790\u001b[0m             handle,\n\u001b[1;32m    791\u001b[0m             ioargs\u001b[39m.\u001b[39;49mmode,\n\u001b[1;32m    792\u001b[0m             encoding\u001b[39m=\u001b[39;49mioargs\u001b[39m.\u001b[39;49mencoding,\n\u001b[1;32m    793\u001b[0m             errors\u001b[39m=\u001b[39;49merrors,\n\u001b[1;32m    794\u001b[0m             newline\u001b[39m=\u001b[39;49m\u001b[39m\"\u001b[39;49m\u001b[39m\"\u001b[39;49m,\n\u001b[1;32m    795\u001b[0m         )\n\u001b[1;32m    796\u001b[0m     \u001b[39melse\u001b[39;00m:\n\u001b[1;32m    797\u001b[0m         \u001b[39m# Binary mode\u001b[39;00m\n\u001b[1;32m    798\u001b[0m         handle \u001b[39m=\u001b[39m \u001b[39mopen\u001b[39m(handle, ioargs\u001b[39m.\u001b[39mmode)\n",
      "\u001b[0;31mFileNotFoundError\u001b[0m: [Errno 2] No such file or directory: 'stock/BBVA.csv'"
     ]
    }
   ],
   "source": [
    "df = pd.read_csv('stock/BBVA.csv')\n",
    "df = df.loc[df['Date'] > \"2022-09-19\"]\n",
    "\n",
    "df.set_index('Date')\n",
    "\n",
    "df = df[['Close']]\n",
    "\n",
    "df=df.fillna(method='ffill')\n",
    "scaler = MinMaxScaler(feature_range=(-1, 1))\n",
    "df['Close'] = scaler.fit_transform(df['Close'].values.reshape(-1,1))"
   ]
  },
  {
   "cell_type": "code",
   "execution_count": null,
   "metadata": {},
   "outputs": [
    {
     "data": {
      "text/html": [
       "<div>\n",
       "<style scoped>\n",
       "    .dataframe tbody tr th:only-of-type {\n",
       "        vertical-align: middle;\n",
       "    }\n",
       "\n",
       "    .dataframe tbody tr th {\n",
       "        vertical-align: top;\n",
       "    }\n",
       "\n",
       "    .dataframe thead th {\n",
       "        text-align: right;\n",
       "    }\n",
       "</style>\n",
       "<table border=\"1\" class=\"dataframe\">\n",
       "  <thead>\n",
       "    <tr style=\"text-align: right;\">\n",
       "      <th></th>\n",
       "      <th>Close</th>\n",
       "    </tr>\n",
       "  </thead>\n",
       "  <tbody>\n",
       "    <tr>\n",
       "      <th>1187</th>\n",
       "      <td>0.884616</td>\n",
       "    </tr>\n",
       "    <tr>\n",
       "      <th>1188</th>\n",
       "      <td>0.538462</td>\n",
       "    </tr>\n",
       "    <tr>\n",
       "      <th>1189</th>\n",
       "      <td>0.653847</td>\n",
       "    </tr>\n",
       "    <tr>\n",
       "      <th>1190</th>\n",
       "      <td>-0.153845</td>\n",
       "    </tr>\n",
       "    <tr>\n",
       "      <th>1191</th>\n",
       "      <td>-0.423077</td>\n",
       "    </tr>\n",
       "    <tr>\n",
       "      <th>1192</th>\n",
       "      <td>-0.846154</td>\n",
       "    </tr>\n",
       "    <tr>\n",
       "      <th>1193</th>\n",
       "      <td>-0.423077</td>\n",
       "    </tr>\n",
       "    <tr>\n",
       "      <th>1194</th>\n",
       "      <td>-0.692308</td>\n",
       "    </tr>\n",
       "    <tr>\n",
       "      <th>1195</th>\n",
       "      <td>-0.692308</td>\n",
       "    </tr>\n",
       "    <tr>\n",
       "      <th>1196</th>\n",
       "      <td>-0.115385</td>\n",
       "    </tr>\n",
       "    <tr>\n",
       "      <th>1197</th>\n",
       "      <td>1.000000</td>\n",
       "    </tr>\n",
       "    <tr>\n",
       "      <th>1198</th>\n",
       "      <td>0.423077</td>\n",
       "    </tr>\n",
       "    <tr>\n",
       "      <th>1199</th>\n",
       "      <td>0.192308</td>\n",
       "    </tr>\n",
       "    <tr>\n",
       "      <th>1200</th>\n",
       "      <td>-0.461537</td>\n",
       "    </tr>\n",
       "    <tr>\n",
       "      <th>1201</th>\n",
       "      <td>-0.653846</td>\n",
       "    </tr>\n",
       "    <tr>\n",
       "      <th>1202</th>\n",
       "      <td>-1.000000</td>\n",
       "    </tr>\n",
       "    <tr>\n",
       "      <th>1203</th>\n",
       "      <td>-0.769231</td>\n",
       "    </tr>\n",
       "    <tr>\n",
       "      <th>1204</th>\n",
       "      <td>0.115385</td>\n",
       "    </tr>\n",
       "    <tr>\n",
       "      <th>1205</th>\n",
       "      <td>-0.192308</td>\n",
       "    </tr>\n",
       "  </tbody>\n",
       "</table>\n",
       "</div>"
      ],
      "text/plain": [
       "         Close\n",
       "1187  0.884616\n",
       "1188  0.538462\n",
       "1189  0.653847\n",
       "1190 -0.153845\n",
       "1191 -0.423077\n",
       "1192 -0.846154\n",
       "1193 -0.423077\n",
       "1194 -0.692308\n",
       "1195 -0.692308\n",
       "1196 -0.115385\n",
       "1197  1.000000\n",
       "1198  0.423077\n",
       "1199  0.192308\n",
       "1200 -0.461537\n",
       "1201 -0.653846\n",
       "1202 -1.000000\n",
       "1203 -0.769231\n",
       "1204  0.115385\n",
       "1205 -0.192308"
      ]
     },
     "execution_count": 900,
     "metadata": {},
     "output_type": "execute_result"
    }
   ],
   "source": [
    "# function to create train, test data given stock data and sequence length\n",
    "def load_data_test(stock, look_back):\n",
    "    data_raw = stock.values # convert to numpy array\n",
    "    data = []\n",
    "    \n",
    "    # create all possible sequences of length look_back\n",
    "    for index in range(0, len(data_raw)): \n",
    "        data.append(data_raw[index: index])\n",
    "\n",
    "    data = np.array(data);\n",
    "    # test_set_size = int(np.round(0.2*data.shape[0]));\n",
    "    test = data[:,:-1]\n",
    "    \n",
    "    return [test]\n",
    "\n",
    "look_back = 20\n",
    "\n",
    "data = load_data_test(df, look_back)"
   ]
  }
 ],
 "metadata": {
  "kernelspec": {
   "display_name": "Python 3.9.12 ('base')",
   "language": "python",
   "name": "python3"
  },
  "language_info": {
   "codemirror_mode": {
    "name": "ipython",
    "version": 3
   },
   "file_extension": ".py",
   "mimetype": "text/x-python",
   "name": "python",
   "nbconvert_exporter": "python",
   "pygments_lexer": "ipython3",
   "version": "3.9.12 (main, Apr  5 2022, 06:56:58) \n[GCC 7.5.0]"
  },
  "orig_nbformat": 4,
  "vscode": {
   "interpreter": {
    "hash": "8fadc5f936274309d5ca82691dfd61f89474af03c6ebe71b05790b9d22fb5245"
   }
  }
 },
 "nbformat": 4,
 "nbformat_minor": 2
}
