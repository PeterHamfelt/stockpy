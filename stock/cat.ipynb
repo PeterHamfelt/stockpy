{
 "cells": [
  {
   "cell_type": "code",
   "execution_count": null,
   "metadata": {},
   "outputs": [],
   "source": [
    "import pandas as pd\n",
    "import numpy as np\n",
    "from sklearn.preprocessing import StandardScaler\n",
    "\n",
    "df = pd.read_csv(\"AAPL.csv\", parse_dates=True, index_col='Date').dropna(how='any')\n",
    "# Create a new categorical column 'cat' with values [1,2,3,4,5] based on the difference between the current and previous close price\n",
    "df['Scenario'] = pd.cut(df['Close'].diff(), bins=3, labels=[1,2,3])\n",
    "# remove firt row\n",
    "df = df.iloc[1:]\n",
    "# Save the dataframe to a csv file\n",
    "df.to_csv('AAPL_cat.csv')\n",
    "# count number of each category in Scenario\n",
    "df['Scenario'].value_counts()"
   ]
  }
 ],
 "metadata": {
  "kernelspec": {
   "display_name": "base",
   "language": "python",
   "name": "python3"
  },
  "language_info": {
   "codemirror_mode": {
    "name": "ipython",
    "version": 3
   },
   "file_extension": ".py",
   "mimetype": "text/x-python",
   "name": "python",
   "nbconvert_exporter": "python",
   "pygments_lexer": "ipython3",
   "version": "3.9.16"
  },
  "orig_nbformat": 4
 },
 "nbformat": 4,
 "nbformat_minor": 2
}
