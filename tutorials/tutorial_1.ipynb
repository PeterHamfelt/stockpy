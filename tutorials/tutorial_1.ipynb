{
 "cells": [
  {
   "cell_type": "code",
   "execution_count": 5,
   "metadata": {},
   "outputs": [],
   "source": [
    "from sklearn.model_selection import train_test_split\n",
    "import pandas as pd\n",
    "import matplotlib.pyplot as plt\n",
    "from tqdm.auto import tqdm\n",
    "from stockpy.probabilistic import DeepMarkovModel"
   ]
  },
  {
   "cell_type": "code",
   "execution_count": 6,
   "metadata": {},
   "outputs": [],
   "source": [
    "# set style of graphs\n",
    "plt.style.use('ggplot')\n",
    "from pylab import rcParams\n",
    "plt.rcParams['figure.dpi'] = 100"
   ]
  },
  {
   "cell_type": "code",
   "execution_count": 7,
   "metadata": {},
   "outputs": [],
   "source": [
    "df = pd.read_csv('../stock/AAPL.csv', parse_dates=True, index_col='Date').dropna(how=\"any\")\n",
    "X_train, X_test = train_test_split(df, test_size=0.1, shuffle=False)"
   ]
  },
  {
   "cell_type": "code",
   "execution_count": 8,
   "metadata": {},
   "outputs": [
    {
     "ename": "TypeError",
     "evalue": "__init__() got an unexpected keyword argument 'input_dim'",
     "output_type": "error",
     "traceback": [
      "\u001b[0;31m---------------------------------------------------------------------------\u001b[0m",
      "\u001b[0;31mTypeError\u001b[0m                                 Traceback (most recent call last)",
      "Cell \u001b[0;32mIn[8], line 1\u001b[0m\n\u001b[0;32m----> 1\u001b[0m predictor \u001b[39m=\u001b[39m DeepMarkovModel(input_dim\u001b[39m=\u001b[39;49m\u001b[39m4\u001b[39;49m,\n\u001b[1;32m      2\u001b[0m                 z_dim\u001b[39m=\u001b[39;49m\u001b[39m64\u001b[39;49m,\n\u001b[1;32m      3\u001b[0m                 emission_dim\u001b[39m=\u001b[39;49m\u001b[39m64\u001b[39;49m,\n\u001b[1;32m      4\u001b[0m                 transition_dim\u001b[39m=\u001b[39;49m\u001b[39m64\u001b[39;49m,\n\u001b[1;32m      5\u001b[0m                 rnn_dim\u001b[39m=\u001b[39;49m\u001b[39m32\u001b[39;49m,\n\u001b[1;32m      6\u001b[0m                 rnn_dropout_rate\u001b[39m=\u001b[39;49m\u001b[39m0.0\u001b[39;49m,\n\u001b[1;32m      7\u001b[0m                 variance\u001b[39m=\u001b[39;49m\u001b[39m0.1\u001b[39;49m,\n\u001b[1;32m      8\u001b[0m                 pretrained\u001b[39m=\u001b[39;49m\u001b[39mTrue\u001b[39;49;00m\n\u001b[1;32m      9\u001b[0m                 )\n\u001b[1;32m     10\u001b[0m predictor\u001b[39m.\u001b[39mfit(X_train, \n\u001b[1;32m     11\u001b[0m               batch_size\u001b[39m=\u001b[39m\u001b[39m24\u001b[39m, \n\u001b[1;32m     12\u001b[0m               epochs\u001b[39m=\u001b[39m\u001b[39m10\u001b[39m,\n\u001b[1;32m     13\u001b[0m               patience\u001b[39m=\u001b[39m\u001b[39m2\u001b[39m\n\u001b[1;32m     14\u001b[0m               )\n",
      "\u001b[0;31mTypeError\u001b[0m: __init__() got an unexpected keyword argument 'input_dim'"
     ]
    }
   ],
   "source": [
    "predictor = DeepMarkovModel(input_size=4,\n",
    "                z_dim=64,\n",
    "                emission_dim=64,\n",
    "                transition_dim=64,\n",
    "                rnn_dim=32,\n",
    "                rnn_dropout_rate=0.0,\n",
    "                variance=0.1,\n",
    "                pretrained=True\n",
    "                )\n",
    "predictor.fit(X_train, \n",
    "              batch_size=24, \n",
    "              epochs=10,\n",
    "              patience=2\n",
    "              )"
   ]
  },
  {
   "cell_type": "code",
   "execution_count": null,
   "metadata": {},
   "outputs": [],
   "source": [
    "y_pred = predictor.predict(X_test)\n",
    "y_test = (X_test['Close']).values.reshape(-1,1)"
   ]
  },
  {
   "cell_type": "code",
   "execution_count": null,
   "metadata": {},
   "outputs": [],
   "source": [
    "balance, total_profit_loss, percentage_increase, transactions = predictor.trading(predicted=y_pred,\n",
    "                                                real=y_test,\n",
    "                                                shares=2,\n",
    "                                                initial_balance=1000,\n",
    "                                                stop_loss=0.03,\n",
    "                                                threshold=0.02,\n",
    "                                                plot=True\n",
    "                                                )"
   ]
  }
 ],
 "metadata": {
  "kernelspec": {
   "display_name": "base",
   "language": "python",
   "name": "python3"
  },
  "language_info": {
   "codemirror_mode": {
    "name": "ipython",
    "version": 3
   },
   "file_extension": ".py",
   "mimetype": "text/x-python",
   "name": "python",
   "nbconvert_exporter": "python",
   "pygments_lexer": "ipython3",
   "version": "3.9.12"
  },
  "orig_nbformat": 4,
  "vscode": {
   "interpreter": {
    "hash": "8fadc5f936274309d5ca82691dfd61f89474af03c6ebe71b05790b9d22fb5245"
   }
  }
 },
 "nbformat": 4,
 "nbformat_minor": 2
}
