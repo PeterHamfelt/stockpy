{
 "cells": [
  {
   "cell_type": "code",
   "execution_count": 1,
   "metadata": {},
   "outputs": [],
   "source": [
    "from sklearn.model_selection import train_test_split\n",
    "import pandas as pd\n",
    "import matplotlib.pyplot as plt\n",
    "import seaborn as sns\n",
    "from stockpy.generative import LSTM\n",
    "from stockpy.metrics import evaluate\n",
    "\n",
    "# read CSV file and drop missing values\n",
    "df = pd.read_csv('../stock/AAPL.csv', parse_dates=True, index_col='Date').dropna(how=\"any\")\n",
    "# split data into training and test set\n",
    "X_train, X_test = train_test_split(df, test_size=0.1, shuffle=False)\n",
    "\n",
    "# create model instance and fit to training data\n",
    "predictor = LSTM()\n",
    "predictor.fit(X_train, batch_size=24, epochs=10)\n",
    "\n",
    "# predictions on test data\n",
    "y_pred = predictor.generate(n_samples=120)"
   ]
  }
 ],
 "metadata": {
  "kernelspec": {
   "display_name": "base",
   "language": "python",
   "name": "python3"
  },
  "language_info": {
   "codemirror_mode": {
    "name": "ipython",
    "version": 3
   },
   "file_extension": ".py",
   "mimetype": "text/x-python",
   "name": "python",
   "nbconvert_exporter": "python",
   "pygments_lexer": "ipython3",
   "version": "3.9.16"
  },
  "orig_nbformat": 4
 },
 "nbformat": 4,
 "nbformat_minor": 2
}
