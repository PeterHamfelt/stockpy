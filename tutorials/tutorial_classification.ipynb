{
 "cells": [
  {
   "cell_type": "code",
   "execution_count": 1,
   "metadata": {},
   "outputs": [
    {
     "data": {
      "application/vnd.jupyter.widget-view+json": {
       "model_id": "e2e5f64a366b419487b2dff8d86f11f4",
       "version_major": 2,
       "version_minor": 0
      },
      "text/plain": [
       "  0%|          | 0/1000 [00:00<?, ?it/s]"
      ]
     },
     "metadata": {},
     "output_type": "display_data"
    },
    {
     "name": "stdout",
     "output_type": "stream",
     "text": [
      "No improvement after 10 epochs. Stopping early.37499999999996, F1_score 26.1278377577661481694\n"
     ]
    }
   ],
   "source": [
    "import torch\n",
    "import numpy as np\n",
    "from sklearn.model_selection import train_test_split\n",
    "import pandas as pd\n",
    "import matplotlib.pyplot as plt\n",
    "import seaborn as sns\n",
    "from stockpy.neural_network import LSTMClassifier, MLPClassifier, CNNClassifier\n",
    "\n",
    "# read CSV file and drop missing values\n",
    "# df = pd.read_csv('../stock/AAPL_cat.csv', parse_dates=True, index_col='Date').dropna(how=\"any\")\n",
    "df = pd.read_csv(\"../../dataset/ParisHousing.csv\").dropna(how='any')\n",
    "# split data into training and test set\n",
    "X = df.drop(columns=['cityPartRange'])\n",
    "y = df['cityPartRange']\n",
    "X_train, X_test, y_train, y_test = train_test_split(X, y, test_size=0.2, shuffle=False)\n",
    "input_size = X_train.shape[1]\n",
    "output_size = y_train.nunique()\n",
    "# create model instance and fit to training data\n",
    "predictor = CNNClassifier(input_size=input_size, \n",
    "                          hidden_size=32, \n",
    "                          output_size=output_size)\n",
    "predictor.fit(X=X_train, y=y_train, patience=10, batch_size=24, epochs=1000)"
   ]
  }
 ],
 "metadata": {
  "kernelspec": {
   "display_name": "base",
   "language": "python",
   "name": "python3"
  },
  "language_info": {
   "codemirror_mode": {
    "name": "ipython",
    "version": 3
   },
   "file_extension": ".py",
   "mimetype": "text/x-python",
   "name": "python",
   "nbconvert_exporter": "python",
   "pygments_lexer": "ipython3",
   "version": "3.9.16"
  },
  "orig_nbformat": 4
 },
 "nbformat": 4,
 "nbformat_minor": 2
}
