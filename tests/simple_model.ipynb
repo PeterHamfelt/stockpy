{
 "cells": [
  {
   "cell_type": "code",
   "execution_count": 1,
   "metadata": {},
   "outputs": [],
   "source": [
    "import numpy as np\n",
    "import pandas as pd\n",
    "import os\n",
    "import glob\n",
    "import pathlib\n",
    "\n",
    "np.set_printoptions(formatter={'float': '{: 0.3f}'.format})"
   ]
  },
  {
   "cell_type": "code",
   "execution_count": 2,
   "metadata": {},
   "outputs": [],
   "source": [
    "import yfinance as yf\n",
    "from yahoofinancials import YahooFinancials"
   ]
  },
  {
   "cell_type": "code",
   "execution_count": 3,
   "metadata": {},
   "outputs": [
    {
     "name": "stdout",
     "output_type": "stream",
     "text": [
      "File exist\n"
     ]
    }
   ],
   "source": [
    "file = pathlib.Path(\"../stock/\")\n",
    "if file.exists ():\n",
    "    print (\"File exist\")\n",
    "else:\n",
    "    print (\"File not exist\")"
   ]
  },
  {
   "cell_type": "code",
   "execution_count": 4,
   "metadata": {},
   "outputs": [],
   "source": [
    "from sklearn.naive_bayes import GaussianNB, ComplementNB, CategoricalNB\n",
    "from sklearn.ensemble import GradientBoostingRegressor\n",
    "from sklearn.svm import SVR\n",
    "from sklearn.linear_model import SGDRegressor\n",
    "from sklearn.ensemble import RandomForestRegressor\n",
    "from sklearn.model_selection import RandomizedSearchCV\n",
    "from sklearn.model_selection import train_test_split # for train-test split \n",
    "from sklearn.preprocessing import StandardScaler # for feature scaling\n",
    "from sklearn.model_selection import GridSearchCV # for fine-tuning\n",
    "from sklearn.metrics import classification_report, confusion_matrix, plot_roc_curve # for evaluation\n",
    "from sklearn import metrics\n",
    "from sklearn.pipeline import make_pipeline # for prediction"
   ]
  },
  {
   "cell_type": "code",
   "execution_count": 5,
   "metadata": {},
   "outputs": [],
   "source": [
    "# for Generator\n",
    "from scipy import stats # for sampling\n",
    "# from fitter import Fitter # for fitting the best distribution\n",
    "import copy # for copying nested dictionaries"
   ]
  },
  {
   "cell_type": "code",
   "execution_count": 6,
   "metadata": {},
   "outputs": [],
   "source": [
    "import matplotlib.pyplot as plt\n",
    "%matplotlib inline\n",
    "\n",
    "# set style of graphs\n",
    "plt.style.use('seaborn')\n",
    "from pylab import rcParams\n",
    "plt.rcParams['figure.dpi'] = 100"
   ]
  },
  {
   "cell_type": "code",
   "execution_count": 7,
   "metadata": {},
   "outputs": [],
   "source": [
    "def evaluate(model, input, prediction):\n",
    "    errors = abs(prediction - input)\n",
    "    mape = 100 * np.mean(errors / input)\n",
    "    accuracy = 100 - mape\n",
    "    print('Model Performance')\n",
    "    print('Average Error: {:0.4f} degrees.'.format(np.mean(errors)))\n",
    "    print('Accuracy = {:0.2f}%.'.format(accuracy))\n",
    "    \n",
    "    return accuracy"
   ]
  },
  {
   "cell_type": "code",
   "execution_count": 8,
   "metadata": {},
   "outputs": [],
   "source": [
    "sc = StandardScaler()"
   ]
  },
  {
   "cell_type": "code",
   "execution_count": 9,
   "metadata": {},
   "outputs": [],
   "source": [
    "data = pd.read_csv('../stock/AAPL.csv')\n",
    "X = data[['Open', 'High', 'Low']]\n",
    "y = data['Close']"
   ]
  },
  {
   "cell_type": "code",
   "execution_count": 10,
   "metadata": {},
   "outputs": [],
   "source": [
    "X_train, x_test, y_train, y_test = train_test_split(X, y, test_size=0.20, random_state=42, shuffle=False)"
   ]
  },
  {
   "cell_type": "code",
   "execution_count": 11,
   "metadata": {},
   "outputs": [
    {
     "data": {
      "text/html": [
       "<div>\n",
       "<style scoped>\n",
       "    .dataframe tbody tr th:only-of-type {\n",
       "        vertical-align: middle;\n",
       "    }\n",
       "\n",
       "    .dataframe tbody tr th {\n",
       "        vertical-align: top;\n",
       "    }\n",
       "\n",
       "    .dataframe thead th {\n",
       "        text-align: right;\n",
       "    }\n",
       "</style>\n",
       "<table border=\"1\" class=\"dataframe\">\n",
       "  <thead>\n",
       "    <tr style=\"text-align: right;\">\n",
       "      <th></th>\n",
       "      <th>Open</th>\n",
       "      <th>High</th>\n",
       "      <th>Low</th>\n",
       "    </tr>\n",
       "  </thead>\n",
       "  <tbody>\n",
       "    <tr>\n",
       "      <th>791</th>\n",
       "      <td>164.979996</td>\n",
       "      <td>166.690002</td>\n",
       "      <td>162.149994</td>\n",
       "    </tr>\n",
       "    <tr>\n",
       "      <th>792</th>\n",
       "      <td>165.539993</td>\n",
       "      <td>166.149994</td>\n",
       "      <td>159.750000</td>\n",
       "    </tr>\n",
       "    <tr>\n",
       "      <th>793</th>\n",
       "      <td>152.580002</td>\n",
       "      <td>162.850006</td>\n",
       "      <td>152.000000</td>\n",
       "    </tr>\n",
       "    <tr>\n",
       "      <th>794</th>\n",
       "      <td>163.839996</td>\n",
       "      <td>165.119995</td>\n",
       "      <td>160.869995</td>\n",
       "    </tr>\n",
       "    <tr>\n",
       "      <th>795</th>\n",
       "      <td>163.059998</td>\n",
       "      <td>165.419998</td>\n",
       "      <td>162.429993</td>\n",
       "    </tr>\n",
       "    <tr>\n",
       "      <th>...</th>\n",
       "      <td>...</td>\n",
       "      <td>...</td>\n",
       "      <td>...</td>\n",
       "    </tr>\n",
       "    <tr>\n",
       "      <th>984</th>\n",
       "      <td>145.139999</td>\n",
       "      <td>146.639999</td>\n",
       "      <td>143.380005</td>\n",
       "    </tr>\n",
       "    <tr>\n",
       "      <th>985</th>\n",
       "      <td>144.289993</td>\n",
       "      <td>144.809998</td>\n",
       "      <td>140.350006</td>\n",
       "    </tr>\n",
       "    <tr>\n",
       "      <th>986</th>\n",
       "      <td>141.399994</td>\n",
       "      <td>148.720001</td>\n",
       "      <td>140.550003</td>\n",
       "    </tr>\n",
       "    <tr>\n",
       "      <th>987</th>\n",
       "      <td>148.210007</td>\n",
       "      <td>149.130005</td>\n",
       "      <td>146.610001</td>\n",
       "    </tr>\n",
       "    <tr>\n",
       "      <th>988</th>\n",
       "      <td>145.960007</td>\n",
       "      <td>148.000000</td>\n",
       "      <td>145.649994</td>\n",
       "    </tr>\n",
       "  </tbody>\n",
       "</table>\n",
       "<p>198 rows × 3 columns</p>\n",
       "</div>"
      ],
      "text/plain": [
       "           Open        High         Low\n",
       "791  164.979996  166.690002  162.149994\n",
       "792  165.539993  166.149994  159.750000\n",
       "793  152.580002  162.850006  152.000000\n",
       "794  163.839996  165.119995  160.869995\n",
       "795  163.059998  165.419998  162.429993\n",
       "..          ...         ...         ...\n",
       "984  145.139999  146.639999  143.380005\n",
       "985  144.289993  144.809998  140.350006\n",
       "986  141.399994  148.720001  140.550003\n",
       "987  148.210007  149.130005  146.610001\n",
       "988  145.960007  148.000000  145.649994\n",
       "\n",
       "[198 rows x 3 columns]"
      ]
     },
     "execution_count": 11,
     "metadata": {},
     "output_type": "execute_result"
    }
   ],
   "source": [
    "x_test"
   ]
  },
  {
   "cell_type": "markdown",
   "metadata": {},
   "source": [
    "## Random forest "
   ]
  },
  {
   "cell_type": "code",
   "execution_count": 12,
   "metadata": {},
   "outputs": [
    {
     "name": "stdout",
     "output_type": "stream",
     "text": [
      "2\n",
      "3\n"
     ]
    }
   ],
   "source": [
    "dict = {'x': 2, 'y':'3'}\n",
    "for key, value in dict.items():\n",
    "    print(dict[key])"
   ]
  },
  {
   "cell_type": "code",
   "execution_count": 13,
   "metadata": {},
   "outputs": [],
   "source": [
    "random_forest = RandomForestRegressor(max_depth=50, n_estimators=200)\n",
    "\n",
    "# Train the model using the training sets y_pred=clf.predict(X_test)\n",
    "random_forest.fit(y=y_train, X=X_train)\n",
    "\n",
    "y_pred = random_forest.predict(x_test)"
   ]
  },
  {
   "cell_type": "code",
   "execution_count": 14,
   "metadata": {},
   "outputs": [
    {
     "name": "stdout",
     "output_type": "stream",
     "text": [
      "Model Performance\n",
      "Average Error: 1.3491 degrees.\n",
      "Accuracy = 99.11%.\n"
     ]
    },
    {
     "data": {
      "text/plain": [
       "99.11389795162624"
      ]
     },
     "execution_count": 14,
     "metadata": {},
     "output_type": "execute_result"
    }
   ],
   "source": [
    "evaluate(random_forest, y_test, y_pred)"
   ]
  },
  {
   "cell_type": "code",
   "execution_count": 15,
   "metadata": {},
   "outputs": [
    {
     "data": {
      "text/plain": [
       "<matplotlib.legend.Legend at 0x7fd404903340>"
      ]
     },
     "execution_count": 15,
     "metadata": {},
     "output_type": "execute_result"
    },
    {
     "data": {
      "image/png": "[encoded data removed]",
      "text/plain": [
       "<Figure size 800x550 with 1 Axes>"
      ]
     },
     "metadata": {},
     "output_type": "display_data"
    }
   ],
   "source": [
    "df_y_test = pd.DataFrame({'Date': pd.to_datetime(data.Date[(len(data)-len(y_test)):], utc=True), 'Close': y_test})\n",
    "df_y_test.set_index('Date', inplace=True)\n",
    "df_y_pred = pd.DataFrame({'Date': pd.to_datetime(data.Date[(len(data)-len(y_test)):], utc=True), 'Close': y_pred})\n",
    "df_y_pred.set_index('Date', inplace=True)\n",
    "\n",
    "fig, ax = plt.subplots()\n",
    "\n",
    "df_y_test['Close'].plot(label='Test')\n",
    "df_y_pred['Close'].plot(label='Pred')\n",
    "\n",
    "plt.title('TEST vs PRED on AAPL')\n",
    "# adding Label to the x-axis\n",
    "plt.xlabel('Date')\n",
    "  \n",
    "# adding legend to the curve\n",
    "plt.legend()"
   ]
  },
  {
   "cell_type": "code",
   "execution_count": 28,
   "metadata": {},
   "outputs": [
    {
     "name": "stderr",
     "output_type": "stream",
     "text": [
      "/home/silvio/anaconda3/lib/python3.9/site-packages/sklearn/base.py:450: UserWarning: X does not have valid feature names, but RandomForestRegressor was fitted with feature names\n",
      "  warnings.warn(\n"
     ]
    },
    {
     "data": {
      "text/plain": [
       "array([ 142.446])"
      ]
     },
     "execution_count": 28,
     "metadata": {},
     "output_type": "execute_result"
    }
   ],
   "source": [
    "random_forest.predict(np.array([143.14, 153.2, 132.9]).reshape(1,-1))"
   ]
  },
  {
   "cell_type": "code",
   "execution_count": 16,
   "metadata": {},
   "outputs": [],
   "source": [
    "parameters_rf = {\n",
    "    'n_estimators': [100, 200, 300, 400, 500],\n",
    "    'max_depth': [10, 50, 100, 150],\n",
    "    'min_samples_leaf': [1, 2, 4],\n",
    "    'min_samples_split': [2, 5, 10],\n",
    "    'bootstrap': [True, False]\n",
    "    }\n",
    "\n",
    "# Create a base model\n",
    "random_search_rf = GridSearchCV(random_forest, parameters_rf, verbose=2, scoring='accuracy', \n",
    "                            n_jobs = -1, return_train_score=True)"
   ]
  },
  {
   "cell_type": "code",
   "execution_count": 17,
   "metadata": {},
   "outputs": [],
   "source": [
    "# random_search_rf.fit(x_train, y_train)"
   ]
  },
  {
   "cell_type": "code",
   "execution_count": 18,
   "metadata": {},
   "outputs": [],
   "source": [
    " # rf_random.best_estimator_"
   ]
  },
  {
   "cell_type": "markdown",
   "metadata": {},
   "source": [
    "## Stochastic Gradient Descent"
   ]
  },
  {
   "cell_type": "code",
   "execution_count": 19,
   "metadata": {},
   "outputs": [],
   "source": [
    "param_grid = {\n",
    "            'alpha':[0.0001,0.001],\n",
    "            'loss': ['squared_error', 'huber', 'epsilon_insensitive']\n",
    "            }"
   ]
  },
  {
   "cell_type": "code",
   "execution_count": 20,
   "metadata": {},
   "outputs": [
    {
     "data": {
      "text/plain": [
       "SGDRegressor()"
      ]
     },
     "execution_count": 20,
     "metadata": {},
     "output_type": "execute_result"
    }
   ],
   "source": [
    "sgd = SGDRegressor()\n",
    "sgd.fit(X_train, y_train)"
   ]
  },
  {
   "cell_type": "code",
   "execution_count": 21,
   "metadata": {},
   "outputs": [
    {
     "data": {
      "text/html": [
       "<div>\n",
       "<style scoped>\n",
       "    .dataframe tbody tr th:only-of-type {\n",
       "        vertical-align: middle;\n",
       "    }\n",
       "\n",
       "    .dataframe tbody tr th {\n",
       "        vertical-align: top;\n",
       "    }\n",
       "\n",
       "    .dataframe thead th {\n",
       "        text-align: right;\n",
       "    }\n",
       "</style>\n",
       "<table border=\"1\" class=\"dataframe\">\n",
       "  <thead>\n",
       "    <tr style=\"text-align: right;\">\n",
       "      <th></th>\n",
       "      <th>Open</th>\n",
       "      <th>High</th>\n",
       "      <th>Low</th>\n",
       "    </tr>\n",
       "  </thead>\n",
       "  <tbody>\n",
       "    <tr>\n",
       "      <th>791</th>\n",
       "      <td>164.979996</td>\n",
       "      <td>166.690002</td>\n",
       "      <td>162.149994</td>\n",
       "    </tr>\n",
       "    <tr>\n",
       "      <th>792</th>\n",
       "      <td>165.539993</td>\n",
       "      <td>166.149994</td>\n",
       "      <td>159.750000</td>\n",
       "    </tr>\n",
       "    <tr>\n",
       "      <th>793</th>\n",
       "      <td>152.580002</td>\n",
       "      <td>162.850006</td>\n",
       "      <td>152.000000</td>\n",
       "    </tr>\n",
       "    <tr>\n",
       "      <th>794</th>\n",
       "      <td>163.839996</td>\n",
       "      <td>165.119995</td>\n",
       "      <td>160.869995</td>\n",
       "    </tr>\n",
       "    <tr>\n",
       "      <th>795</th>\n",
       "      <td>163.059998</td>\n",
       "      <td>165.419998</td>\n",
       "      <td>162.429993</td>\n",
       "    </tr>\n",
       "    <tr>\n",
       "      <th>...</th>\n",
       "      <td>...</td>\n",
       "      <td>...</td>\n",
       "      <td>...</td>\n",
       "    </tr>\n",
       "    <tr>\n",
       "      <th>984</th>\n",
       "      <td>145.139999</td>\n",
       "      <td>146.639999</td>\n",
       "      <td>143.380005</td>\n",
       "    </tr>\n",
       "    <tr>\n",
       "      <th>985</th>\n",
       "      <td>144.289993</td>\n",
       "      <td>144.809998</td>\n",
       "      <td>140.350006</td>\n",
       "    </tr>\n",
       "    <tr>\n",
       "      <th>986</th>\n",
       "      <td>141.399994</td>\n",
       "      <td>148.720001</td>\n",
       "      <td>140.550003</td>\n",
       "    </tr>\n",
       "    <tr>\n",
       "      <th>987</th>\n",
       "      <td>148.210007</td>\n",
       "      <td>149.130005</td>\n",
       "      <td>146.610001</td>\n",
       "    </tr>\n",
       "    <tr>\n",
       "      <th>988</th>\n",
       "      <td>145.960007</td>\n",
       "      <td>148.000000</td>\n",
       "      <td>145.649994</td>\n",
       "    </tr>\n",
       "  </tbody>\n",
       "</table>\n",
       "<p>198 rows × 3 columns</p>\n",
       "</div>"
      ],
      "text/plain": [
       "           Open        High         Low\n",
       "791  164.979996  166.690002  162.149994\n",
       "792  165.539993  166.149994  159.750000\n",
       "793  152.580002  162.850006  152.000000\n",
       "794  163.839996  165.119995  160.869995\n",
       "795  163.059998  165.419998  162.429993\n",
       "..          ...         ...         ...\n",
       "984  145.139999  146.639999  143.380005\n",
       "985  144.289993  144.809998  140.350006\n",
       "986  141.399994  148.720001  140.550003\n",
       "987  148.210007  149.130005  146.610001\n",
       "988  145.960007  148.000000  145.649994\n",
       "\n",
       "[198 rows x 3 columns]"
      ]
     },
     "execution_count": 21,
     "metadata": {},
     "output_type": "execute_result"
    }
   ],
   "source": [
    "x_test"
   ]
  },
  {
   "cell_type": "code",
   "execution_count": 22,
   "metadata": {},
   "outputs": [],
   "source": [
    "y_pred = sgd.predict(x_test)"
   ]
  },
  {
   "cell_type": "code",
   "execution_count": 23,
   "metadata": {},
   "outputs": [
    {
     "data": {
      "text/plain": [
       "array([-9154563022793.816, -9148562808869.250, -7627695277190.248,\n",
       "       -9128326504064.381, -9090713344547.918, -9123072714537.291,\n",
       "       -9057506121035.613, -9489137519507.537, -9220724532133.590,\n",
       "       -8987130485332.980, -8533570911739.438, -8969681012775.533,\n",
       "       -8970795349969.412, -8869013279097.080, -8350018559789.556,\n",
       "       -8144667842563.563, -8575649937571.341, -8812539822387.309,\n",
       "       -8761972657225.338, -9071238772842.178, -9064396653772.094,\n",
       "       -9140400161388.768, -9461055776324.273, -9791600013536.117,\n",
       "       -9508968881574.393, -9894764197955.701, -10059062186726.021,\n",
       "       -10028070640197.750, -9808898538123.771, -9610037035507.254,\n",
       "       -9961231595084.021, -9659483611602.184, -9538168998272.234,\n",
       "       -9745840221491.367, -9500542687914.158, -9391803664948.492,\n",
       "       -9199911683639.057, -9447895512900.623, -9120302520601.520,\n",
       "       -9129943154603.830, -9554610786246.840, -9272540708633.947,\n",
       "       -9158667888684.691, -8904348074715.588, -9029727183952.875,\n",
       "       -8518702646236.332, -8570684393990.885, -8590848652108.684,\n",
       "       -8666551260006.307, -8722104202487.410, -8422172167714.341,\n",
       "       -8926514892515.957, -8504052346833.614, -8631658167525.032,\n",
       "       -8676159257375.842, -8207773578944.248, -7627434747755.946,\n",
       "       -7856542334824.336, -8085576114959.676, -8348421280893.203,\n",
       "       -8021432812555.815, -7677791847640.307, -7479856865904.520,\n",
       "       -7322970258223.370, -7788238059983.062, -7592513461997.855,\n",
       "       -7132719980052.496, -7889703920008.237, -8283710078548.517,\n",
       "       -8304774500999.309, -8077963293903.625, -8204242322501.011,\n",
       "       -8177052535980.488, -7784170220179.110, -8347514866392.948,\n",
       "       -8123667126656.630, -7845748209732.007, -7313091691636.103,\n",
       "       -7487461661631.030, -7278951636222.354, -7401795023898.633,\n",
       "       -7140271250175.455, -7273011674013.189, -7383250585896.423,\n",
       "       -7614381833160.857, -7822180698866.670, -8030894500179.381,\n",
       "       -7778999272956.074, -7515617908784.238, -7587637823433.081,\n",
       "       -7478663474537.645, -7462113019505.320, -7815331673571.939,\n",
       "       -7887496441850.470, -8093304237205.352, -8173716588039.724,\n",
       "       -8054440720364.708, -7802470994799.210, -7713650435112.479,\n",
       "       -8414916151616.084, -8365996867648.016, -8095180408211.893,\n",
       "       -8370708470915.725, -8635389453946.842, -8737244661796.317,\n",
       "       -8655888757922.313, -8591364914003.821, -8238014847562.381,\n",
       "       -8822334726362.867, -8923349387270.842, -8975954723873.957,\n",
       "       -8934296573307.982, -8622188915015.284, -9338432881845.922,\n",
       "       -9091267055336.924, -9299290785892.453, -9199552684867.934,\n",
       "       -9424999511105.543, -9583365061122.895, -9492222935040.738,\n",
       "       -9655784133533.119, -9780039674433.098, -9561534262897.562,\n",
       "       -9838085492437.816, -9786356936685.246, -9608581989521.285,\n",
       "       -9412427137379.520, -9483623244413.258, -9539737723120.104,\n",
       "       -9387142826230.225, -9009845777893.273, -9045597677650.475,\n",
       "       -9024511295473.846, -8712721276701.127, -8869178702820.492,\n",
       "       -8786112907115.088, -8640915964840.187, -8604648849552.264,\n",
       "       -8650010885557.555, -8657273343452.322, -8781037113296.439,\n",
       "       -8590641804215.486, -8658415837580.376, -8532396870258.119,\n",
       "       -8006462046096.516, -8298198580869.875, -8699872669143.175,\n",
       "       -8460379617158.963, -8527204133308.217, -8161043106451.871,\n",
       "       -8422566670390.884, -8017209967718.774, -8048012470717.731,\n",
       "       -7754032932128.021, -7393347295155.506, -8172729989925.282,\n",
       "       -7870850032602.790, -8168387550269.199, -7974087519280.812,\n",
       "       -7819084904779.225, -7800408954155.472, -7817999935986.383,\n",
       "       -6794896992379.211, -7952248872074.887, -7873367508529.245,\n",
       "       -7977427381477.290, -7785762619448.037, -7895233584025.502,\n",
       "       -7664586368202.654, -8072968512721.997, -8334279546076.292,\n",
       "       -8416704377611.407, -8201267310582.776, -7491955752533.772,\n",
       "       -8627682009626.814, -8563958712392.474, -8007200434529.768,\n",
       "       -7915075097255.269, -7699142443676.679, -7588284800844.229,\n",
       "       -7810394934213.947, -7753274916389.931, -7418666121147.459,\n",
       "       -7854831982130.239, -8345345359608.848, -8412642103244.049,\n",
       "       -8400667484324.386, -7858712092624.046, -8595190301264.489,\n",
       "       -8485687658663.984, -8208315163219.566, -8332741183793.593,\n",
       "       -8406719254790.979, -8092370668316.220, -8033785714394.140,\n",
       "       -7291193564589.981, -8340900202265.146, -8158189570205.438])"
      ]
     },
     "execution_count": 23,
     "metadata": {},
     "output_type": "execute_result"
    }
   ],
   "source": [
    "y_pred"
   ]
  },
  {
   "cell_type": "code",
   "execution_count": 24,
   "metadata": {},
   "outputs": [
    {
     "name": "stdout",
     "output_type": "stream",
     "text": [
      "Model Performance\n",
      "Average Error: 8490348398551.2109 degrees.\n",
      "Accuracy = -5518599480438.98%.\n"
     ]
    },
    {
     "data": {
      "text/plain": [
       "-5518599480438.98"
      ]
     },
     "execution_count": 24,
     "metadata": {},
     "output_type": "execute_result"
    }
   ],
   "source": [
    "evaluate(sgd, y_test, y_pred)"
   ]
  },
  {
   "cell_type": "code",
   "execution_count": 25,
   "metadata": {},
   "outputs": [
    {
     "data": {
      "text/plain": [
       "<matplotlib.legend.Legend at 0x7fd4229c9b50>"
      ]
     },
     "execution_count": 25,
     "metadata": {},
     "output_type": "execute_result"
    },
    {
     "data": {
      "image/png": "[encoded data removed]",
      "text/plain": [
       "<Figure size 800x550 with 1 Axes>"
      ]
     },
     "metadata": {},
     "output_type": "display_data"
    }
   ],
   "source": [
    "df_y_test = pd.DataFrame({'Date': pd.to_datetime(data.Date[(len(data)-len(y_test)):], utc=True), 'Close': y_test})\n",
    "df_y_test.set_index('Date', inplace=True)\n",
    "df_y_pred = pd.DataFrame({'Date': pd.to_datetime(data.Date[(len(data)-len(y_test)):], utc=True), 'Close': y_pred})\n",
    "df_y_pred.set_index('Date', inplace=True)\n",
    "\n",
    "fig, ax = plt.subplots()\n",
    "\n",
    "df_y_test['Close'].plot(label='Test')\n",
    "df_y_pred['Close'].plot(label='Pred')\n",
    "\n",
    "plt.title('TEST vs PRED on AAPL')\n",
    "# adding Label to the x-axis\n",
    "plt.xlabel('Date')\n",
    "  \n",
    "# adding legend to the curve\n",
    "plt.legend()"
   ]
  },
  {
   "cell_type": "code",
   "execution_count": 26,
   "metadata": {},
   "outputs": [
    {
     "data": {
      "text/html": [
       "<div>\n",
       "<style scoped>\n",
       "    .dataframe tbody tr th:only-of-type {\n",
       "        vertical-align: middle;\n",
       "    }\n",
       "\n",
       "    .dataframe tbody tr th {\n",
       "        vertical-align: top;\n",
       "    }\n",
       "\n",
       "    .dataframe thead th {\n",
       "        text-align: right;\n",
       "    }\n",
       "</style>\n",
       "<table border=\"1\" class=\"dataframe\">\n",
       "  <thead>\n",
       "    <tr style=\"text-align: right;\">\n",
       "      <th></th>\n",
       "      <th>Date</th>\n",
       "      <th>Open</th>\n",
       "      <th>High</th>\n",
       "      <th>Low</th>\n",
       "      <th>Close</th>\n",
       "      <th>Adj Close</th>\n",
       "      <th>Volume</th>\n",
       "    </tr>\n",
       "  </thead>\n",
       "  <tbody>\n",
       "    <tr>\n",
       "      <th>984</th>\n",
       "      <td>2022-11-28 00:00:00-05:00</td>\n",
       "      <td>145.139999</td>\n",
       "      <td>146.639999</td>\n",
       "      <td>143.380005</td>\n",
       "      <td>144.220001</td>\n",
       "      <td>144.220001</td>\n",
       "      <td>69246000</td>\n",
       "    </tr>\n",
       "    <tr>\n",
       "      <th>985</th>\n",
       "      <td>2022-11-29 00:00:00-05:00</td>\n",
       "      <td>144.289993</td>\n",
       "      <td>144.809998</td>\n",
       "      <td>140.350006</td>\n",
       "      <td>141.169998</td>\n",
       "      <td>141.169998</td>\n",
       "      <td>83763800</td>\n",
       "    </tr>\n",
       "    <tr>\n",
       "      <th>986</th>\n",
       "      <td>2022-11-30 00:00:00-05:00</td>\n",
       "      <td>141.399994</td>\n",
       "      <td>148.720001</td>\n",
       "      <td>140.550003</td>\n",
       "      <td>148.029999</td>\n",
       "      <td>148.029999</td>\n",
       "      <td>111224400</td>\n",
       "    </tr>\n",
       "    <tr>\n",
       "      <th>987</th>\n",
       "      <td>2022-12-01 00:00:00-05:00</td>\n",
       "      <td>148.210007</td>\n",
       "      <td>149.130005</td>\n",
       "      <td>146.610001</td>\n",
       "      <td>148.309998</td>\n",
       "      <td>148.309998</td>\n",
       "      <td>71250400</td>\n",
       "    </tr>\n",
       "    <tr>\n",
       "      <th>988</th>\n",
       "      <td>2022-12-02 00:00:00-05:00</td>\n",
       "      <td>145.960007</td>\n",
       "      <td>148.000000</td>\n",
       "      <td>145.649994</td>\n",
       "      <td>147.809998</td>\n",
       "      <td>147.809998</td>\n",
       "      <td>65421400</td>\n",
       "    </tr>\n",
       "  </tbody>\n",
       "</table>\n",
       "</div>"
      ],
      "text/plain": [
       "                          Date        Open        High         Low  \\\n",
       "984  2022-11-28 00:00:00-05:00  145.139999  146.639999  143.380005   \n",
       "985  2022-11-29 00:00:00-05:00  144.289993  144.809998  140.350006   \n",
       "986  2022-11-30 00:00:00-05:00  141.399994  148.720001  140.550003   \n",
       "987  2022-12-01 00:00:00-05:00  148.210007  149.130005  146.610001   \n",
       "988  2022-12-02 00:00:00-05:00  145.960007  148.000000  145.649994   \n",
       "\n",
       "          Close   Adj Close     Volume  \n",
       "984  144.220001  144.220001   69246000  \n",
       "985  141.169998  141.169998   83763800  \n",
       "986  148.029999  148.029999  111224400  \n",
       "987  148.309998  148.309998   71250400  \n",
       "988  147.809998  147.809998   65421400  "
      ]
     },
     "execution_count": 26,
     "metadata": {},
     "output_type": "execute_result"
    }
   ],
   "source": [
    "data.tail()"
   ]
  },
  {
   "cell_type": "code",
   "execution_count": 32,
   "metadata": {},
   "outputs": [],
   "source": [
    "ref = 1025 # So that x_i+1 - x_i is exactly representable in base 2\n",
    "x = np.linspace(0,1,ref)\n",
    "\n",
    "n = 5 # Polynomials of order 5, with dimension 6\n",
    "\n",
    "# We compute the basis of Pn row-wise. This is memory efficient if we want to access\n",
    "# all the values of the basis at once. \n",
    "Pn = np.zeros((ref, n+1))\n",
    "\n",
    "for i in range(n+1):\n",
    "    Pn[:, i] = x**i\n",
    "    \n",
    "# The _ = in front of the plot command is only there to ignore the output of the plot\n",
    "# command\n",
    "_ = plt.plot(x, Pn)"
   ]
  }
 ],
 "metadata": {
  "kernelspec": {
   "display_name": "Python 3.9.12 ('base')",
   "language": "python",
   "name": "python3"
  },
  "language_info": {
   "codemirror_mode": {
    "name": "ipython",
    "version": 3
   },
   "file_extension": ".py",
   "mimetype": "text/x-python",
   "name": "python",
   "nbconvert_exporter": "python",
   "pygments_lexer": "ipython3",
   "version": "3.9.12"
  },
  "orig_nbformat": 4,
  "vscode": {
   "interpreter": {
    "hash": "8fadc5f936274309d5ca82691dfd61f89474af03c6ebe71b05790b9d22fb5245"
   }
  }
 },
 "nbformat": 4,
 "nbformat_minor": 2
}
