{
 "cells": [
  {
   "cell_type": "code",
   "execution_count": null,
   "metadata": {},
   "outputs": [],
   "source": [
    "import torch\n",
    "import numpy as np\n",
    "from sklearn.model_selection import train_test_split\n",
    "import pandas as pd\n",
    "import matplotlib.pyplot as plt\n",
    "import seaborn as sns\n",
    "from stockpy.neural_network import MLPClassifier, CNNClassifier, LSTMClassifier\n",
    "from stockpy.probabilistic import BayesianNNClassifier, BayesianCNNClassifier\n",
    "from sklearn.metrics import f1_score\n",
    "from sklearn.metrics import confusion_matrix"
   ]
  },
  {
   "cell_type": "code",
   "execution_count": null,
   "metadata": {},
   "outputs": [],
   "source": [
    "data = pd.read_pickle('../../test/data.pickle')\n",
    "X = data.drop(['scenario'], axis=1)\n",
    "y = data['scenario']\n",
    "X_train, X_test, y_train, y_test = train_test_split(X, y, test_size=0.2, shuffle=False)"
   ]
  },
  {
   "cell_type": "code",
   "execution_count": null,
   "metadata": {},
   "outputs": [],
   "source": [
    "# create model instance and fit to training data\n",
    "predictor = BayesianCNNClassifier(hidden_size=32)\n",
    "predictor.fit(X=X_train, \n",
    "              y=y_train,\n",
    "              patience=5,\n",
    "              batch_size=24,\n",
    "              sequence_length=22,\n",
    "              pretrained=False,\n",
    "              scaler_type='minmax',\n",
    "              epochs=50)\n",
    "\n",
    "# Append true labels and predicted labels to lists using the score method\n",
    "true_labels, pred_labels = predictor.score(X_test, y_test)"
   ]
  },
  {
   "cell_type": "code",
   "execution_count": null,
   "metadata": {},
   "outputs": [],
   "source": [
    "# print confusion matrix\n",
    "cm = confusion_matrix(true_labels, pred_labels)\n",
    "# plot the confusion matrix\n",
    "plt.figure(figsize=(8,8))\n",
    "sns.heatmap(cm, annot=True, fmt=\".0f\", linewidths=.5, square=True, cmap='Blues')\n",
    "plt.ylabel('Actual label')\n",
    "plt.xlabel('Predicted label')\n",
    "plt.title('Confusion Matrix', size=15)\n",
    "plt.show()"
   ]
  },
  {
   "cell_type": "code",
   "execution_count": null,
   "metadata": {},
   "outputs": [],
   "source": [
    "def plot_training_metrics(train_losses, train_accuracies, train_f1_scores):\n",
    "    epochs = range(1, len(train_losses) + 1)\n",
    "    sns.set(style=\"ticks\", context=\"talk\")\n",
    "    plt.style.use('dark_background')\n",
    "    file = file = '../results/classifier' + predictor.__class__.__name__ + '.png'\n",
    "    fig, ax = plt.subplots(3, 1, figsize=(12, 18), sharex=True)\n",
    "\n",
    "    ax[0].plot(epochs, train_losses, label='Training Loss', linewidth=3, color='#2962FF')\n",
    "    ax[1].plot(epochs, train_accuracies, label='Training Accuracy', linewidth=3, color='#FFA726')\n",
    "    ax[2].plot(epochs, train_f1_scores, label='Training F1 Score', linewidth=3, color='#4CAF50')\n",
    "\n",
    "    ax[0].set_title('Training Loss', fontsize=24, color='white')\n",
    "    ax[1].set_title('Training Accuracy', fontsize=24, color='white')\n",
    "    ax[2].set_title('Training F1 Score', fontsize=24, color='white')\n",
    "\n",
    "    for i in range(3):\n",
    "        ax[i].set_xlabel('Epoch', fontsize=16, color='white', labelpad=10)\n",
    "        ax[i].set_ylabel('Value', fontsize=16, color='white', labelpad=10)\n",
    "        ax[i].grid(color='white', linestyle='--', linewidth=0.5)\n",
    "        ax[i].legend(fontsize=16, loc='upper right', edgecolor='black')\n",
    "\n",
    "    plt.tight_layout()\n",
    "    plt.savefig(file, dpi=80, facecolor='#131722')\n",
    "    plt.show()"
   ]
  }
 ],
 "metadata": {
  "kernelspec": {
   "display_name": "base",
   "language": "python",
   "name": "python3"
  },
  "language_info": {
   "codemirror_mode": {
    "name": "ipython",
    "version": 3
   },
   "file_extension": ".py",
   "mimetype": "text/x-python",
   "name": "python",
   "nbconvert_exporter": "python",
   "pygments_lexer": "ipython3",
   "version": "3.9.16"
  },
  "orig_nbformat": 4
 },
 "nbformat": 4,
 "nbformat_minor": 2
}
