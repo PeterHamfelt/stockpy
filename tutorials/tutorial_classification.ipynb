{
 "cells": [
  {
   "cell_type": "code",
   "execution_count": null,
   "metadata": {},
   "outputs": [],
   "source": [
    "import torch\n",
    "import numpy as np\n",
    "from sklearn.model_selection import train_test_split\n",
    "import pandas as pd\n",
    "import matplotlib.pyplot as plt\n",
    "import seaborn as sns\n",
    "from stockpy.neural_network import LSTMClassifier, CNNClassifier\n",
    "from stockpy.probabilistic import BayesianCNNClassifier, BayesianNNClassifier\n",
    "from sklearn.metrics import f1_score\n",
    "from sklearn.metrics import confusion_matrix\n",
    "from sklearn.metrics import ConfusionMatrixDisplay"
   ]
  },
  {
   "cell_type": "code",
   "execution_count": null,
   "metadata": {},
   "outputs": [],
   "source": [
    "data = pd.read_pickle('../../test/data.pickle')\n",
    "X = data.drop(['scenario'], axis=1)\n",
    "y = data['scenario']\n",
    "X_train, X_test, y_train, y_test = train_test_split(X, y, test_size=0.05, shuffle=False)"
   ]
  },
  {
   "cell_type": "code",
   "execution_count": null,
   "metadata": {},
   "outputs": [],
   "source": [
    "# create model instance and fit to training data\n",
    "predictor = BayesianNNClassifier(hidden_size=64)\n",
    "predictor.fit(X=X_train, \n",
    "              y=y_train,\n",
    "              lr=0.001,\n",
    "              patience=10,\n",
    "              batch_size=8,\n",
    "              sequence_length=22,\n",
    "              pretrained=False,\n",
    "              shuffle=False,\n",
    "              val_size=0.1,\n",
    "              scaler_type='minmax',\n",
    "              epochs=100)\n",
    "\n",
    "# Append true labels and predicted labels to lists using the score method\n",
    "true_labels, pred_labels = predictor.score(X_test, y_test)"
   ]
  },
  {
   "cell_type": "code",
   "execution_count": null,
   "metadata": {},
   "outputs": [],
   "source": [
    "# compute f1 score\n",
    "f1 = f1_score(true_labels, pred_labels, average='weighted')\n",
    "f1 * 100"
   ]
  },
  {
   "cell_type": "code",
   "execution_count": null,
   "metadata": {},
   "outputs": [],
   "source": [
    "# print confusion matrix\n",
    "cm = confusion_matrix(true_labels, pred_labels)\n",
    "# plot the confusion matrix\n",
    "# Print the confusion matrix using matplotlib\n",
    "plt.figure(figsize=(10,10))\n",
    "# add to the plot the f1 score\n",
    "cm_display = ConfusionMatrixDisplay(cm).plot()\n",
    "plt.show()"
   ]
  }
 ],
 "metadata": {
  "kernelspec": {
   "display_name": "base",
   "language": "python",
   "name": "python3"
  },
  "language_info": {
   "codemirror_mode": {
    "name": "ipython",
    "version": 3
   },
   "file_extension": ".py",
   "mimetype": "text/x-python",
   "name": "python",
   "nbconvert_exporter": "python",
   "pygments_lexer": "ipython3",
   "version": "3.9.16"
  },
  "orig_nbformat": 4
 },
 "nbformat": 4,
 "nbformat_minor": 2
}
