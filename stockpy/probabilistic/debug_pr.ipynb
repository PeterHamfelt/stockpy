{
 "cells": [
  {
   "cell_type": "code",
   "execution_count": 1,
   "metadata": {},
   "outputs": [],
   "source": [
    "import sys\n",
    "import glob\n",
    "import os\n",
    "sys.path.append(\"..\")"
   ]
  },
  {
   "cell_type": "code",
   "execution_count": 2,
   "metadata": {},
   "outputs": [],
   "source": [
    "import numpy as np\n",
    "import matplotlib.pyplot as plt\n",
    "import pandas as pd\n",
    "import math\n",
    "from sklearn.model_selection import train_test_split\n",
    "from util.StockDataset import StockData\n",
    "from hmmlearn.hmm import GaussianHMM\n",
    "from util.util import evaluate\n",
    "from GHMM import GHMM"
   ]
  },
  {
   "cell_type": "code",
   "execution_count": 56,
   "metadata": {},
   "outputs": [],
   "source": [
    "appl_mse = []\n",
    "appl_rmse = []\n",
    "appl_mape = []\n",
    "\n",
    "jnj_mse = []\n",
    "jnj_rmse = []\n",
    "jnj_mape = []\n",
    "\n",
    "tsla_mse = []\n",
    "tsla_rmse = []\n",
    "tsla_mape = []\n",
    "\n",
    "xom_mse = []\n",
    "xom_rmse = []\n",
    "xom_mape = []"
   ]
  },
  {
   "cell_type": "code",
   "execution_count": 57,
   "metadata": {},
   "outputs": [],
   "source": [
    "def collecting_results(folder, test_size, plot=False):\n",
    "    files = glob.glob(folder + '*')\n",
    "    if plot:\n",
    "        for i in range(5):\n",
    "            for f in files:\n",
    "                if f.find('.') != -1:\n",
    "                    f = f.split(folder)[-1].split(\".\")[-2]\n",
    "                f = f.replace('-', '.')\n",
    "                predictor = GHMM(hs=i)\n",
    "                df = pd.read_csv(folder + f + '.csv', \n",
    "                                    parse_dates=True, \n",
    "                                    index_col='Date').dropna(how=\"any\")\n",
    "                X_train = df[:len(df)-test_size]\n",
    "                X_test = df[-test_size:]\n",
    "                predictor.fit(X_train)\n",
    "                y_pred = predictor.predict(X_test, plot=False)\n",
    "\n",
    "                days = np.array(X_test.index, dtype=\"datetime64[ms]\")\n",
    "        \n",
    "                fig = plt.figure()\n",
    "        \n",
    "                axes = fig.add_subplot(111)\n",
    "                axes.plot(days, X_test['Close'], 'bo-', label=\"actual\")\n",
    "                axes.plot(days, y_pred, 'r+-', label=\"predicted\")\n",
    "        \n",
    "                fig.autofmt_xdate()\n",
    "                plt.title(f)\n",
    "                plt.legend()\n",
    "                plt.savefig(\"../../results/probabilistic/\" + f + \".png\", dpi=300)\n",
    "    else:\n",
    "        for i in range(5):\n",
    "            for f in files:\n",
    "                if f.find('.') != -1:\n",
    "                    f = f.split(folder)[-1].split(\".\")[-2]\n",
    "                f = f.replace('-', '.')\n",
    "                predictor = GHMM(hs=10)\n",
    "                df = pd.read_csv(folder + f + '.csv', \n",
    "                                    parse_dates=True, \n",
    "                                    index_col='Date').dropna(how=\"any\")\n",
    "                X_train = df[:len(df)-test_size]\n",
    "                X_test = df[-test_size:]\n",
    "                predictor.fit(X_train)\n",
    "                y_pred = predictor.predict(X_test, plot=False)\n",
    "                print(f)\n",
    "                mse, rmse, mape = evaluate(y_test=X_test['Close'], y_pred=y_pred)\n",
    "\n",
    "                if f == \"AAPL\": \n",
    "                    appl_mse.append(mse)\n",
    "                    appl_rmse.append(rmse)\n",
    "                    appl_mape.append(mape)\n",
    "\n",
    "                if f == \"TSLA\": \n",
    "                    tsla_mse.append(mse)\n",
    "                    tsla_rmse.append(rmse)\n",
    "                    tsla_mape.append(mape)\n",
    "\n",
    "                if f == \"XOM\": \n",
    "                    xom_mse.append(mse)\n",
    "                    xom_rmse.append(rmse)\n",
    "                    xom_mape.append(mape)\n",
    "\n",
    "                if f == \"JNJ\": \n",
    "                    jnj_mse.append(mse)\n",
    "                    jnj_rmse.append(rmse)\n",
    "                    jnj_mape.append(mape)"
   ]
  },
  {
   "cell_type": "code",
   "execution_count": 58,
   "metadata": {},
   "outputs": [
    {
     "data": {
      "application/vnd.jupyter.widget-view+json": {
       "model_id": "d56e140cbd2a42309e5f5a032c9fb364",
       "version_major": 2,
       "version_minor": 0
      },
      "text/plain": [
       "  0%|          | 0/60 [00:00<?, ?it/s]"
      ]
     },
     "metadata": {},
     "output_type": "display_data"
    },
    {
     "name": "stdout",
     "output_type": "stream",
     "text": [
      "XOM\n"
     ]
    },
    {
     "data": {
      "application/vnd.jupyter.widget-view+json": {
       "model_id": "2a91b24c2a3d42359c2e208e925698f9",
       "version_major": 2,
       "version_minor": 0
      },
      "text/plain": [
       "  0%|          | 0/60 [00:00<?, ?it/s]"
      ]
     },
     "metadata": {},
     "output_type": "display_data"
    },
    {
     "name": "stdout",
     "output_type": "stream",
     "text": [
      "JNJ\n"
     ]
    },
    {
     "data": {
      "application/vnd.jupyter.widget-view+json": {
       "model_id": "55855424349b402eb3b4ab9ca660fc1b",
       "version_major": 2,
       "version_minor": 0
      },
      "text/plain": [
       "  0%|          | 0/60 [00:00<?, ?it/s]"
      ]
     },
     "metadata": {},
     "output_type": "display_data"
    },
    {
     "name": "stdout",
     "output_type": "stream",
     "text": [
      "TSLA\n"
     ]
    },
    {
     "data": {
      "application/vnd.jupyter.widget-view+json": {
       "model_id": "7274d3c67cc84447be483b796c63c5c4",
       "version_major": 2,
       "version_minor": 0
      },
      "text/plain": [
       "  0%|          | 0/60 [00:00<?, ?it/s]"
      ]
     },
     "metadata": {},
     "output_type": "display_data"
    },
    {
     "name": "stdout",
     "output_type": "stream",
     "text": [
      "AAPL\n"
     ]
    },
    {
     "data": {
      "application/vnd.jupyter.widget-view+json": {
       "model_id": "8155205322954d248ecf71ef8009735b",
       "version_major": 2,
       "version_minor": 0
      },
      "text/plain": [
       "  0%|          | 0/60 [00:00<?, ?it/s]"
      ]
     },
     "metadata": {},
     "output_type": "display_data"
    },
    {
     "name": "stdout",
     "output_type": "stream",
     "text": [
      "XOM\n"
     ]
    },
    {
     "data": {
      "application/vnd.jupyter.widget-view+json": {
       "model_id": "e68ee707d46f4046b2b9a73d620dab36",
       "version_major": 2,
       "version_minor": 0
      },
      "text/plain": [
       "  0%|          | 0/60 [00:00<?, ?it/s]"
      ]
     },
     "metadata": {},
     "output_type": "display_data"
    },
    {
     "name": "stdout",
     "output_type": "stream",
     "text": [
      "JNJ\n"
     ]
    },
    {
     "data": {
      "application/vnd.jupyter.widget-view+json": {
       "model_id": "530dad15efbc489ea06ac1a581de103c",
       "version_major": 2,
       "version_minor": 0
      },
      "text/plain": [
       "  0%|          | 0/60 [00:00<?, ?it/s]"
      ]
     },
     "metadata": {},
     "output_type": "display_data"
    },
    {
     "name": "stdout",
     "output_type": "stream",
     "text": [
      "TSLA\n"
     ]
    },
    {
     "data": {
      "application/vnd.jupyter.widget-view+json": {
       "model_id": "8e03dbbb5a9b47c68ffd605ed7b66210",
       "version_major": 2,
       "version_minor": 0
      },
      "text/plain": [
       "  0%|          | 0/60 [00:00<?, ?it/s]"
      ]
     },
     "metadata": {},
     "output_type": "display_data"
    },
    {
     "name": "stdout",
     "output_type": "stream",
     "text": [
      "AAPL\n"
     ]
    },
    {
     "data": {
      "application/vnd.jupyter.widget-view+json": {
       "model_id": "6801e557d7e14023817c4df53f3e9b47",
       "version_major": 2,
       "version_minor": 0
      },
      "text/plain": [
       "  0%|          | 0/60 [00:00<?, ?it/s]"
      ]
     },
     "metadata": {},
     "output_type": "display_data"
    },
    {
     "name": "stdout",
     "output_type": "stream",
     "text": [
      "XOM\n"
     ]
    },
    {
     "data": {
      "application/vnd.jupyter.widget-view+json": {
       "model_id": "25cf6a41ed5c4b6db8c263c361a407d7",
       "version_major": 2,
       "version_minor": 0
      },
      "text/plain": [
       "  0%|          | 0/60 [00:00<?, ?it/s]"
      ]
     },
     "metadata": {},
     "output_type": "display_data"
    },
    {
     "name": "stdout",
     "output_type": "stream",
     "text": [
      "JNJ\n"
     ]
    },
    {
     "data": {
      "application/vnd.jupyter.widget-view+json": {
       "model_id": "0b4f2ef0a63a44faaac80edf8ff6d846",
       "version_major": 2,
       "version_minor": 0
      },
      "text/plain": [
       "  0%|          | 0/60 [00:00<?, ?it/s]"
      ]
     },
     "metadata": {},
     "output_type": "display_data"
    },
    {
     "name": "stdout",
     "output_type": "stream",
     "text": [
      "TSLA\n"
     ]
    },
    {
     "data": {
      "application/vnd.jupyter.widget-view+json": {
       "model_id": "41c3e438cd32452f9216093d49784fdd",
       "version_major": 2,
       "version_minor": 0
      },
      "text/plain": [
       "  0%|          | 0/60 [00:00<?, ?it/s]"
      ]
     },
     "metadata": {},
     "output_type": "display_data"
    },
    {
     "name": "stdout",
     "output_type": "stream",
     "text": [
      "AAPL\n"
     ]
    },
    {
     "data": {
      "application/vnd.jupyter.widget-view+json": {
       "model_id": "b792e2ff4d0e406da09db9b37c23431a",
       "version_major": 2,
       "version_minor": 0
      },
      "text/plain": [
       "  0%|          | 0/60 [00:00<?, ?it/s]"
      ]
     },
     "metadata": {},
     "output_type": "display_data"
    },
    {
     "name": "stdout",
     "output_type": "stream",
     "text": [
      "XOM\n"
     ]
    },
    {
     "data": {
      "application/vnd.jupyter.widget-view+json": {
       "model_id": "d5fe66356e2f41889000189e0114f980",
       "version_major": 2,
       "version_minor": 0
      },
      "text/plain": [
       "  0%|          | 0/60 [00:00<?, ?it/s]"
      ]
     },
     "metadata": {},
     "output_type": "display_data"
    },
    {
     "name": "stdout",
     "output_type": "stream",
     "text": [
      "JNJ\n"
     ]
    },
    {
     "data": {
      "application/vnd.jupyter.widget-view+json": {
       "model_id": "deae3af1ee1a43e4b5388baff14ea518",
       "version_major": 2,
       "version_minor": 0
      },
      "text/plain": [
       "  0%|          | 0/60 [00:00<?, ?it/s]"
      ]
     },
     "metadata": {},
     "output_type": "display_data"
    },
    {
     "name": "stdout",
     "output_type": "stream",
     "text": [
      "TSLA\n"
     ]
    },
    {
     "data": {
      "application/vnd.jupyter.widget-view+json": {
       "model_id": "7c25ca856c0e43ac999f24188ca1eea4",
       "version_major": 2,
       "version_minor": 0
      },
      "text/plain": [
       "  0%|          | 0/60 [00:00<?, ?it/s]"
      ]
     },
     "metadata": {},
     "output_type": "display_data"
    },
    {
     "name": "stdout",
     "output_type": "stream",
     "text": [
      "AAPL\n"
     ]
    },
    {
     "data": {
      "application/vnd.jupyter.widget-view+json": {
       "model_id": "ebc5ad658b144f0ba377caa3cc1ac976",
       "version_major": 2,
       "version_minor": 0
      },
      "text/plain": [
       "  0%|          | 0/60 [00:00<?, ?it/s]"
      ]
     },
     "metadata": {},
     "output_type": "display_data"
    },
    {
     "name": "stdout",
     "output_type": "stream",
     "text": [
      "XOM\n"
     ]
    },
    {
     "data": {
      "application/vnd.jupyter.widget-view+json": {
       "model_id": "1413b1efdc2247bd835a4b988223bcb9",
       "version_major": 2,
       "version_minor": 0
      },
      "text/plain": [
       "  0%|          | 0/60 [00:00<?, ?it/s]"
      ]
     },
     "metadata": {},
     "output_type": "display_data"
    },
    {
     "name": "stdout",
     "output_type": "stream",
     "text": [
      "JNJ\n"
     ]
    },
    {
     "data": {
      "application/vnd.jupyter.widget-view+json": {
       "model_id": "0e765a35a6f14f89abb50bfc07588462",
       "version_major": 2,
       "version_minor": 0
      },
      "text/plain": [
       "  0%|          | 0/60 [00:00<?, ?it/s]"
      ]
     },
     "metadata": {},
     "output_type": "display_data"
    },
    {
     "name": "stdout",
     "output_type": "stream",
     "text": [
      "TSLA\n"
     ]
    },
    {
     "data": {
      "application/vnd.jupyter.widget-view+json": {
       "model_id": "683b92571ca84a0c982d6489125628e0",
       "version_major": 2,
       "version_minor": 0
      },
      "text/plain": [
       "  0%|          | 0/60 [00:00<?, ?it/s]"
      ]
     },
     "metadata": {},
     "output_type": "display_data"
    },
    {
     "name": "stdout",
     "output_type": "stream",
     "text": [
      "AAPL\n"
     ]
    }
   ],
   "source": [
    "collecting_results('../../stock/', 60, plot=False)"
   ]
  },
  {
   "cell_type": "code",
   "execution_count": 3,
   "metadata": {},
   "outputs": [],
   "source": [
    "df = pd.read_csv('../../stock/AAPL.csv', parse_dates=True, index_col='Date').dropna(how='any')\n",
    "X_train = df[:len(df)-60]\n",
    "X_test = df[-60:]"
   ]
  },
  {
   "cell_type": "code",
   "execution_count": 4,
   "metadata": {},
   "outputs": [],
   "source": [
    "predictor = GHMM(hs=10, fc=20, fh=10, fl=10)\n",
    "predictor.fit(X_train)"
   ]
  },
  {
   "cell_type": "code",
   "execution_count": 5,
   "metadata": {},
   "outputs": [
    {
     "data": {
      "application/vnd.jupyter.widget-view+json": {
       "model_id": "a2b2449cbceb4dc78bc7eeb92eeb90fa",
       "version_major": 2,
       "version_minor": 0
      },
      "text/plain": [
       "  0%|          | 0/60 [00:00<?, ?it/s]"
      ]
     },
     "metadata": {},
     "output_type": "display_data"
    }
   ],
   "source": [
    "y_pred = predictor.predict(X_test, plot=False)"
   ]
  },
  {
   "cell_type": "code",
   "execution_count": 8,
   "metadata": {},
   "outputs": [
    {
     "name": "stdout",
     "output_type": "stream",
     "text": [
      "Model Performance\n",
      "Mean squared error = 9.554\n",
      "Root mean squared error = 3.091\n",
      "Mean absolute percentage error = 1.759%.\n"
     ]
    }
   ],
   "source": [
    "evaluate(y_test=X_test['Close'], y_pred=y_pred, show=True)"
   ]
  },
  {
   "cell_type": "code",
   "execution_count": 8,
   "metadata": {},
   "outputs": [
    {
     "ename": "ValueError",
     "evalue": "x, y, and format string must not be None",
     "output_type": "error",
     "traceback": [
      "\u001b[0;31m---------------------------------------------------------------------------\u001b[0m",
      "\u001b[0;31mValueError\u001b[0m                                Traceback (most recent call last)",
      "\u001b[1;32m/home/silvio/OneDrive/github/stockpy/stockpy/probabilistic/debug_pr.ipynb Cell 8\u001b[0m in \u001b[0;36m<cell line: 7>\u001b[0;34m()\u001b[0m\n\u001b[1;32m      <a href='vscode-notebook-cell:/home/silvio/OneDrive/github/stockpy/stockpy/probabilistic/debug_pr.ipynb#X10sZmlsZQ%3D%3D?line=4'>5</a>\u001b[0m axes \u001b[39m=\u001b[39m fig\u001b[39m.\u001b[39madd_subplot(\u001b[39m111\u001b[39m)\n\u001b[1;32m      <a href='vscode-notebook-cell:/home/silvio/OneDrive/github/stockpy/stockpy/probabilistic/debug_pr.ipynb#X10sZmlsZQ%3D%3D?line=5'>6</a>\u001b[0m axes\u001b[39m.\u001b[39mplot(days, X_test[\u001b[39m'\u001b[39m\u001b[39mClose\u001b[39m\u001b[39m'\u001b[39m], \u001b[39m'\u001b[39m\u001b[39mbo-\u001b[39m\u001b[39m'\u001b[39m, label\u001b[39m=\u001b[39m\u001b[39m\"\u001b[39m\u001b[39mactual\u001b[39m\u001b[39m\"\u001b[39m)\n\u001b[0;32m----> <a href='vscode-notebook-cell:/home/silvio/OneDrive/github/stockpy/stockpy/probabilistic/debug_pr.ipynb#X10sZmlsZQ%3D%3D?line=6'>7</a>\u001b[0m axes\u001b[39m.\u001b[39;49mplot(days, y_pred, \u001b[39m'\u001b[39;49m\u001b[39mr+-\u001b[39;49m\u001b[39m'\u001b[39;49m, label\u001b[39m=\u001b[39;49m\u001b[39m\"\u001b[39;49m\u001b[39mpredicted\u001b[39;49m\u001b[39m\"\u001b[39;49m)\n\u001b[1;32m      <a href='vscode-notebook-cell:/home/silvio/OneDrive/github/stockpy/stockpy/probabilistic/debug_pr.ipynb#X10sZmlsZQ%3D%3D?line=8'>9</a>\u001b[0m fig\u001b[39m.\u001b[39mautofmt_xdate()\n\u001b[1;32m     <a href='vscode-notebook-cell:/home/silvio/OneDrive/github/stockpy/stockpy/probabilistic/debug_pr.ipynb#X10sZmlsZQ%3D%3D?line=9'>10</a>\u001b[0m plt\u001b[39m.\u001b[39mlegend()\n",
      "File \u001b[0;32m~/anaconda3/lib/python3.9/site-packages/matplotlib/axes/_axes.py:1632\u001b[0m, in \u001b[0;36mAxes.plot\u001b[0;34m(self, scalex, scaley, data, *args, **kwargs)\u001b[0m\n\u001b[1;32m   1390\u001b[0m \u001b[39m\"\"\"\u001b[39;00m\n\u001b[1;32m   1391\u001b[0m \u001b[39mPlot y versus x as lines and/or markers.\u001b[39;00m\n\u001b[1;32m   1392\u001b[0m \n\u001b[0;32m   (...)\u001b[0m\n\u001b[1;32m   1629\u001b[0m \u001b[39m(``'green'``) or hex strings (``'#008000'``).\u001b[39;00m\n\u001b[1;32m   1630\u001b[0m \u001b[39m\"\"\"\u001b[39;00m\n\u001b[1;32m   1631\u001b[0m kwargs \u001b[39m=\u001b[39m cbook\u001b[39m.\u001b[39mnormalize_kwargs(kwargs, mlines\u001b[39m.\u001b[39mLine2D)\n\u001b[0;32m-> 1632\u001b[0m lines \u001b[39m=\u001b[39m [\u001b[39m*\u001b[39m\u001b[39mself\u001b[39m\u001b[39m.\u001b[39m_get_lines(\u001b[39m*\u001b[39margs, data\u001b[39m=\u001b[39mdata, \u001b[39m*\u001b[39m\u001b[39m*\u001b[39mkwargs)]\n\u001b[1;32m   1633\u001b[0m \u001b[39mfor\u001b[39;00m line \u001b[39min\u001b[39;00m lines:\n\u001b[1;32m   1634\u001b[0m     \u001b[39mself\u001b[39m\u001b[39m.\u001b[39madd_line(line)\n",
      "File \u001b[0;32m~/anaconda3/lib/python3.9/site-packages/matplotlib/axes/_base.py:312\u001b[0m, in \u001b[0;36m_process_plot_var_args.__call__\u001b[0;34m(self, data, *args, **kwargs)\u001b[0m\n\u001b[1;32m    310\u001b[0m     this \u001b[39m+\u001b[39m\u001b[39m=\u001b[39m args[\u001b[39m0\u001b[39m],\n\u001b[1;32m    311\u001b[0m     args \u001b[39m=\u001b[39m args[\u001b[39m1\u001b[39m:]\n\u001b[0;32m--> 312\u001b[0m \u001b[39myield from\u001b[39;00m \u001b[39mself\u001b[39;49m\u001b[39m.\u001b[39;49m_plot_args(this, kwargs)\n",
      "File \u001b[0;32m~/anaconda3/lib/python3.9/site-packages/matplotlib/axes/_base.py:459\u001b[0m, in \u001b[0;36m_process_plot_var_args._plot_args\u001b[0;34m(self, tup, kwargs, return_kwargs)\u001b[0m\n\u001b[1;32m    456\u001b[0m \u001b[39m# Don't allow any None value; these would be up-converted to one\u001b[39;00m\n\u001b[1;32m    457\u001b[0m \u001b[39m# element array of None which causes problems downstream.\u001b[39;00m\n\u001b[1;32m    458\u001b[0m \u001b[39mif\u001b[39;00m \u001b[39many\u001b[39m(v \u001b[39mis\u001b[39;00m \u001b[39mNone\u001b[39;00m \u001b[39mfor\u001b[39;00m v \u001b[39min\u001b[39;00m tup):\n\u001b[0;32m--> 459\u001b[0m     \u001b[39mraise\u001b[39;00m \u001b[39mValueError\u001b[39;00m(\u001b[39m\"\u001b[39m\u001b[39mx, y, and format string must not be None\u001b[39m\u001b[39m\"\u001b[39m)\n\u001b[1;32m    461\u001b[0m kw \u001b[39m=\u001b[39m {}\n\u001b[1;32m    462\u001b[0m \u001b[39mfor\u001b[39;00m prop_name, val \u001b[39min\u001b[39;00m \u001b[39mzip\u001b[39m((\u001b[39m'\u001b[39m\u001b[39mlinestyle\u001b[39m\u001b[39m'\u001b[39m, \u001b[39m'\u001b[39m\u001b[39mmarker\u001b[39m\u001b[39m'\u001b[39m, \u001b[39m'\u001b[39m\u001b[39mcolor\u001b[39m\u001b[39m'\u001b[39m),\n\u001b[1;32m    463\u001b[0m                           (linestyle, marker, color)):\n",
      "\u001b[0;31mValueError\u001b[0m: x, y, and format string must not be None"
     ]
    },
    {
     "data": {
      "image/png": "[encoded data removed]",
      "text/plain": [
       "<Figure size 600x400 with 1 Axes>"
      ]
     },
     "metadata": {},
     "output_type": "display_data"
    }
   ],
   "source": [
    "days = np.array(X_test.index, dtype=\"datetime64[ms]\")\n",
    " \n",
    "fig = plt.figure()\n",
    " \n",
    "axes = fig.add_subplot(111)\n",
    "axes.plot(days, X_test['Close'], 'bo-', label=\"actual\")\n",
    "axes.plot(days, y_pred, 'r+-', label=\"predicted\")\n",
    " \n",
    "fig.autofmt_xdate()\n",
    "plt.legend()"
   ]
  },
  {
   "cell_type": "code",
   "execution_count": 62,
   "metadata": {},
   "outputs": [],
   "source": [
    "appl_mse = np.array(appl_mse)\n",
    "appl_rmse = np.array(appl_rmse)\n",
    "appl_mape = np.array(appl_mape)\n",
    "\n",
    "jnj_mse = np.array(jnj_mse)\n",
    "jnj_rmse = np.array(jnj_rmse)\n",
    "jnj_mape = np.array(jnj_mape)\n",
    "\n",
    "tsla_mse = np.array(tsla_mse)\n",
    "tsla_rmse = np.array(tsla_rmse)\n",
    "tsla_mape = np.array(tsla_mape)\n",
    "\n",
    "xom_mse = np.array(xom_mse)\n",
    "xom_rmse = np.array(xom_rmse)\n",
    "xom_mape = np.array(xom_mape)"
   ]
  },
  {
   "cell_type": "code",
   "execution_count": 61,
   "metadata": {},
   "outputs": [
    {
     "data": {
      "image/png": "[encoded data removed]",
      "text/plain": [
       "<Figure size 600x400 with 1 Axes>"
      ]
     },
     "metadata": {},
     "output_type": "display_data"
    }
   ],
   "source": [
    "x = np.array(list(range(5)))\n",
    "\n",
    "fig = plt.figure()\n",
    "    \n",
    "axes = fig.add_subplot(111)\n",
    "plt.title(\"RMSE\")\n",
    "plt.xlabel(\"Num hidden states\")\n",
    "axes.plot(x, appl_mape, label=\"Apple\")\n",
    "axes.plot(x, tsla_mape, label=\"Tesla\")\n",
    "axes.plot(x, jnj_mape, label=\"JnJ\")\n",
    "axes.plot(x, xom_mape, label=\"Exxon\")\n",
    "\n",
    "plt.legend()\n",
    "plt.savefig(\"../../results/probabilistic/\" + \"RMSE\" + \".png\", dpi=300)"
   ]
  }
 ],
 "metadata": {
  "kernelspec": {
   "display_name": "base",
   "language": "python",
   "name": "python3"
  },
  "language_info": {
   "codemirror_mode": {
    "name": "ipython",
    "version": 3
   },
   "file_extension": ".py",
   "mimetype": "text/x-python",
   "name": "python",
   "nbconvert_exporter": "python",
   "pygments_lexer": "ipython3",
   "version": "3.9.12 (main, Apr  5 2022, 06:56:58) \n[GCC 7.5.0]"
  },
  "orig_nbformat": 4,
  "vscode": {
   "interpreter": {
    "hash": "8fadc5f936274309d5ca82691dfd61f89474af03c6ebe71b05790b9d22fb5245"
   }
  }
 },
 "nbformat": 4,
 "nbformat_minor": 2
}
