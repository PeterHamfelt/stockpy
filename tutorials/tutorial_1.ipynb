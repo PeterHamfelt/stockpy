{
 "cells": [
  {
   "cell_type": "code",
   "execution_count": 3,
   "metadata": {},
   "outputs": [],
   "source": [
    "from sklearn.model_selection import train_test_split\n",
    "import pandas as pd\n",
    "import matplotlib.pyplot as plt\n",
    "from tqdm.auto import tqdm"
   ]
  },
  {
   "cell_type": "code",
   "execution_count": null,
   "metadata": {},
   "outputs": [],
   "source": [
    "# set style of graphs\n",
    "plt.style.use('ggplot')\n",
    "from pylab import rcParams\n",
    "plt.rcParams['figure.dpi'] = 100"
   ]
  },
  {
   "cell_type": "code",
   "execution_count": null,
   "metadata": {},
   "outputs": [],
   "source": [
    "df = pd.read_csv('../../stock/AAPL.csv', parse_dates=True, index_col='Date').dropna(how=\"any\")\n",
    "X_train, X_test = train_test_split(df, test_size=0.1, shuffle=False)"
   ]
  },
  {
   "cell_type": "code",
   "execution_count": null,
   "metadata": {},
   "outputs": [],
   "source": [
    "predictor = DMM(input_dim=4,\n",
    "                z_dim=64,\n",
    "                emission_dim=64,\n",
    "                transition_dim=64,\n",
    "                rnn_dim=32,\n",
    "                rnn_dropout_rate=0.0,\n",
    "                variance=0.1,\n",
    "                pretrained=True\n",
    "                )\n",
    "predictor.fit(X_train, \n",
    "              batch_size=24, \n",
    "              epochs=10,\n",
    "              patience=2\n",
    "              )"
   ]
  },
  {
   "cell_type": "code",
   "execution_count": null,
   "metadata": {},
   "outputs": [],
   "source": [
    "y_pred = predictor.predict(X_test)\n",
    "y_test = (X_test['Close']).values.reshape(-1,1)"
   ]
  },
  {
   "cell_type": "code",
   "execution_count": null,
   "metadata": {},
   "outputs": [],
   "source": [
    "balance, total_profit_loss, percentage_increase, transactions = predictor.trading(predicted=y_pred,\n",
    "                                                real=y_test,\n",
    "                                                shares=2,\n",
    "                                                initial_balance=1000,\n",
    "                                                stop_loss=0.03,\n",
    "                                                threshold=0.02,\n",
    "                                                plot=True\n",
    "                                                )"
   ]
  }
 ],
 "metadata": {
  "kernelspec": {
   "display_name": "base",
   "language": "python",
   "name": "python3"
  },
  "language_info": {
   "codemirror_mode": {
    "name": "ipython",
    "version": 3
   },
   "file_extension": ".py",
   "mimetype": "text/x-python",
   "name": "python",
   "nbconvert_exporter": "python",
   "pygments_lexer": "ipython3",
   "version": "3.9.12"
  },
  "orig_nbformat": 4,
  "vscode": {
   "interpreter": {
    "hash": "8fadc5f936274309d5ca82691dfd61f89474af03c6ebe71b05790b9d22fb5245"
   }
  }
 },
 "nbformat": 4,
 "nbformat_minor": 2
}
